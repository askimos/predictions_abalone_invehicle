{
 "cells": [
  {
   "cell_type": "code",
   "execution_count": null,
   "id": "1a1a6a70",
   "metadata": {
    "_cell_guid": "b1076dfc-b9ad-4769-8c92-a6c4dae69d19",
    "_uuid": "8f2839f25d086af736a60e9eeb907d3b93b6e0e5",
    "execution": {
     "iopub.execute_input": "2023-04-29T12:08:13.712533Z",
     "iopub.status.busy": "2023-04-29T12:08:13.711503Z",
     "iopub.status.idle": "2023-04-29T12:08:25.600941Z",
     "shell.execute_reply": "2023-04-29T12:08:25.599370Z"
    },
    "papermill": {
     "duration": 11.909438,
     "end_time": "2023-04-29T12:08:25.604929",
     "exception": false,
     "start_time": "2023-04-29T12:08:13.695491",
     "status": "completed"
    },
    "tags": []
   },
   "outputs": [],
   "source": [
    "import time\n",
    "import pandas as pd\n",
    "import matplotlib.pyplot as plt\n",
    "import seaborn as sns\n",
    "import numpy as np\n",
    "import os\n",
    "from sklearn.model_selection import train_test_split\n",
    "from sklearn.preprocessing import MinMaxScaler, StandardScaler\n",
    "from sklearn.model_selection import KFold\n",
    "from sklearn.model_selection import cross_val_score\n",
    "from tensorflow.keras.models import Sequential\n",
    "from tensorflow.keras.layers import Dense\n",
    "import matplotlib.pyplot as plt\n",
    "from keras.callbacks import ModelCheckpoint\n",
    "from sklearn.metrics import classification_report, accuracy_score, confusion_matrix\n",
    "from sklearn.metrics import mean_squared_error, mean_absolute_error\n",
    "from sklearn.metrics import recall_score, accuracy_score\n",
    "from sklearn.pipeline import Pipeline, make_pipeline\n",
    "from sklearn.metrics import accuracy_score\n",
    "from sklearn.ensemble import RandomForestClassifier\n",
    "from sklearn.neighbors import KNeighborsClassifier"
   ]
  },
  {
   "cell_type": "code",
   "execution_count": null,
   "id": "ef7b9430",
   "metadata": {},
   "outputs": [],
   "source": [
    "df = pd.read_csv(\"../data/in-vehicle_coupon/in-vehicle_coupon_recommendation.csv\")"
   ]
  },
  {
   "attachments": {},
   "cell_type": "markdown",
   "id": "b4f1a9d1",
   "metadata": {},
   "source": [
    "**EDA**"
   ]
  },
  {
   "cell_type": "code",
   "execution_count": null,
   "id": "0b1339e2",
   "metadata": {},
   "outputs": [],
   "source": [
    "# simple script to make a pie plot showing share of classes\n",
    "plt.figure(figsize=(10,6))\n",
    "plt.pie(df.Y.value_counts(),labels=['Accepted','Not Accepted'], autopct='%.1f%%')\n",
    "plt.title(\"Share of Coupon Accepted or not in data\")\n",
    "plt.savefig('../eda/in-vehicle_coupon/share_of_classes.png')\n",
    "plt.show()"
   ]
  },
  {
   "cell_type": "code",
   "execution_count": null,
   "id": "b57e10b1",
   "metadata": {},
   "outputs": [],
   "source": [
    "ordinal_columns = ['temperature','expiration','age','income'] "
   ]
  },
  {
   "cell_type": "code",
   "execution_count": null,
   "id": "5389c6d0",
   "metadata": {},
   "outputs": [],
   "source": [
    "def freq_plotter(nrows, ncols,figsize,cols_to_plot):\n",
    "    '''\n",
    "    Helper function to print countplots / frequency-distribution of each attribute\n",
    "    '''\n",
    "    fig,ax = plt.subplots(nrows=nrows, ncols=ncols,figsize=figsize)\n",
    "    ax = ax.flatten()\n",
    "    i = 0\n",
    "    for col in df.columns:\n",
    "        if col in cols_to_plot and col!='Y':  # we don't want to see distribution of target variable\n",
    "            if df[col].dtype==np.int64:   # Any numeric column is converted to categorical first for plotting countplots\n",
    "                df[col] = df[col].astype(str)\n",
    "            temp = df[col].value_counts()\n",
    "            sns.barplot(x=temp.values,y=temp.index,ax=ax[i])\n",
    "            ax[i].set_xlabel('Count')\n",
    "            ax[i].set_title('Frequency distribution of {}'.format(col))\n",
    "            plt.savefig('../eda/in-vehicle_coupon/freq_distribution.png')\n",
    "            i += 1\n",
    "freq_plotter(nrows=2, ncols=2,figsize=(22,10),cols_to_plot=ordinal_columns)"
   ]
  },
  {
   "cell_type": "code",
   "execution_count": null,
   "id": "4f079d86",
   "metadata": {},
   "outputs": [],
   "source": [
    "temp = df.copy()"
   ]
  },
  {
   "cell_type": "code",
   "execution_count": null,
   "id": "2aa6d8e5",
   "metadata": {},
   "outputs": [],
   "source": [
    "def plot_bivariate(f1,f2,temp,rotate_ticks=False,deg=90, fig_name=None):\n",
    "    '''\n",
    "    Helper function to see if any bivariate relatonships in data are helping us detect any trends in categorical data\n",
    "    '''\n",
    "\n",
    "    temp['feature_comb'] = temp[f1].astype('str') + ' & ' + temp[f2].astype('str') \n",
    "    sns.countplot(x='feature_comb',hue='Y',data=temp)\n",
    "    plt.xlabel(\"Combination of {} & {}\".format(f1,f2))\n",
    "    plt.title(\"Effect of {} & {} on target variable\".format(f1,f2))\n",
    "    plt.ylabel(\"\")\n",
    "    if rotate_ticks:\n",
    "        plt.xticks(rotation=deg)\n",
    "    plt.legend(labels=['Rejected','Accepted'])\n",
    "\n",
    "    if fig_name is not None:\n",
    "        plt.savefig('../eda/in-vehicle_coupon/' + fig_name + '.png')\n",
    "    else:\n",
    "        pass\n",
    "    plt.show()\n"
   ]
  },
  {
   "cell_type": "code",
   "execution_count": null,
   "id": "7ae9c0cf",
   "metadata": {},
   "outputs": [],
   "source": [
    "plot_bivariate('weather', 'temperature',temp,rotate_ticks=True,deg=30,fig_name='bivariate_weather_temp')"
   ]
  },
  {
   "cell_type": "code",
   "execution_count": null,
   "id": "c23afa10",
   "metadata": {},
   "outputs": [],
   "source": [
    "plot_bivariate('passanger', 'destination',temp,rotate_ticks=True,deg=90,fig_name='bivariate_passanger_destination')"
   ]
  },
  {
   "cell_type": "code",
   "execution_count": null,
   "id": "d3af6889",
   "metadata": {},
   "outputs": [],
   "source": [
    "plot_bivariate('destination', 'direction_same',temp,rotate_ticks=True,deg=90,fig_name='bivariate_destination_direction')"
   ]
  },
  {
   "cell_type": "code",
   "execution_count": null,
   "id": "c2320d10",
   "metadata": {},
   "outputs": [],
   "source": [
    "plot_bivariate('gender', 'time',temp,rotate_ticks=True,deg=45,fig_name='bivariate_gender_time')"
   ]
  },
  {
   "attachments": {},
   "cell_type": "markdown",
   "id": "b0326597",
   "metadata": {
    "execution": {
     "iopub.execute_input": "2023-04-06T06:55:17.415528Z",
     "iopub.status.busy": "2023-04-06T06:55:17.415091Z",
     "iopub.status.idle": "2023-04-06T06:55:17.423388Z",
     "shell.execute_reply": "2023-04-06T06:55:17.421622Z",
     "shell.execute_reply.started": "2023-04-06T06:55:17.415486Z"
    },
    "papermill": {
     "duration": 0.012131,
     "end_time": "2023-04-29T12:08:25.630572",
     "exception": false,
     "start_time": "2023-04-29T12:08:25.618441",
     "status": "completed"
    },
    "tags": []
   },
   "source": [
    "**Test and training set split and minimal data preparation**"
   ]
  },
  {
   "cell_type": "code",
   "execution_count": null,
   "id": "c8bf6b75",
   "metadata": {
    "execution": {
     "iopub.execute_input": "2023-04-29T12:08:25.658098Z",
     "iopub.status.busy": "2023-04-29T12:08:25.657638Z",
     "iopub.status.idle": "2023-04-29T12:08:25.770385Z",
     "shell.execute_reply": "2023-04-29T12:08:25.769049Z"
    },
    "papermill": {
     "duration": 0.130777,
     "end_time": "2023-04-29T12:08:25.773904",
     "exception": false,
     "start_time": "2023-04-29T12:08:25.643127",
     "status": "completed"
    },
    "tags": []
   },
   "outputs": [],
   "source": [
    "# for data preprocessing I want to use one-hot encoding for Nominal and ordinal attributes and scaling for interval attributes \n",
    "# (there are no ratio attributes available)\n",
    "# time plays a special role as it needs to be converted to 0-24 first!!!\n",
    "# same for expiration\n",
    "# has children, toCoupon_GEQ5min, toCoupon_GEQ15min, toCoupon_GEQ25min, direction_same,\n",
    "# direction_opp, Y, are already in the required format\n",
    "\n",
    "OneHot = ['destination','passanger','weather','coupon','gender','age','maritalStatus','education','occupation','income','car','Bar','CoffeeHouse',\n",
    "         'CarryAway','RestaurantLessThan20','Restaurant20To50']\n",
    "\n",
    "OneHotPref = ['destination_','passanger_','weather_','coupon_','gender_','age_','maritalStatus_','education_','occupation_','income_','car_','Bar_','CoffeeHouse_',\n",
    "         'CarryAway_','RestaurantLessThan20_','Restaurant20To50_']\n",
    "\n",
    "Interval = ['temperature','time','expiration']\n",
    "\n",
    "df=df.replace(['6PM','7AM','10AM','2PM','10PM'],[18,7,10,14,22]) # this converts times of the day to the format 0-24 to make things comparable\n",
    "df=df.replace(['1d','2h'],[24,2]) # this replaces the expiration time with hours to make it comparable\n",
    "\n",
    "# next I split target and other attributes as well as test and training set\n",
    "\n",
    " # split the data into training and test sets\n",
    "\n",
    "df_train, df_TEST = train_test_split(df, test_size=0.2, random_state=1, shuffle=True)\n",
    "df = df_train # Note that I call the training set df again, because I will do k-fold cross validation etc on this set\n"
   ]
  },
  {
   "attachments": {},
   "cell_type": "markdown",
   "id": "8d068b03",
   "metadata": {
    "papermill": {
     "duration": 0.012464,
     "end_time": "2023-04-29T12:08:25.801536",
     "exception": false,
     "start_time": "2023-04-29T12:08:25.789072",
     "status": "completed"
    },
    "tags": []
   },
   "source": [
    "**Print useful information on data set**"
   ]
  },
  {
   "cell_type": "code",
   "execution_count": null,
   "id": "cdaf661a",
   "metadata": {
    "execution": {
     "iopub.execute_input": "2023-04-29T12:08:25.830657Z",
     "iopub.status.busy": "2023-04-29T12:08:25.830211Z",
     "iopub.status.idle": "2023-04-29T12:08:25.893937Z",
     "shell.execute_reply": "2023-04-29T12:08:25.892640Z"
    },
    "papermill": {
     "duration": 0.082322,
     "end_time": "2023-04-29T12:08:25.897425",
     "exception": false,
     "start_time": "2023-04-29T12:08:25.815103",
     "status": "completed"
    },
    "tags": []
   },
   "outputs": [],
   "source": [
    "df.describe();\n",
    "df.dtypes; # Show name of all columns and type\n",
    "df['car'].value_counts(); # show e.g. 'car' / Bar' column which possible outcomes occurr how frequently\n",
    "df.isna().sum();# show total missing values\n",
    "df.isna().sum()/len(df)*100; # show percentage of missing values\n",
    "df.head(10);\n",
    "\n",
    "#pd.set_option('display.max_rows', None) # can be used to display arbitrarily many rows etc\n",
    "#pd.set_option('display.max_columns', None)"
   ]
  },
  {
   "attachments": {},
   "cell_type": "markdown",
   "id": "e7968a6a",
   "metadata": {
    "papermill": {
     "duration": 0.013151,
     "end_time": "2023-04-29T12:08:25.923445",
     "exception": false,
     "start_time": "2023-04-29T12:08:25.910294",
     "status": "completed"
    },
    "tags": []
   },
   "source": [
    "**Missing Values + One hot encoding**"
   ]
  },
  {
   "cell_type": "code",
   "execution_count": null,
   "id": "cdbe65d8",
   "metadata": {
    "execution": {
     "iopub.execute_input": "2023-04-29T12:08:25.953151Z",
     "iopub.status.busy": "2023-04-29T12:08:25.952683Z",
     "iopub.status.idle": "2023-04-29T12:08:25.969274Z",
     "shell.execute_reply": "2023-04-29T12:08:25.967913Z"
    },
    "papermill": {
     "duration": 0.035725,
     "end_time": "2023-04-29T12:08:25.972830",
     "exception": false,
     "start_time": "2023-04-29T12:08:25.937105",
     "status": "completed"
    },
    "tags": []
   },
   "outputs": [],
   "source": [
    "# the whole procedure is encoded to the function f below. The test and training set have to be provided to f\n",
    "# if the option most frequent is chosen, missing values are replaced by the most frequent value\n",
    "# if the option OwnCategory is chosen, missing values are an own category\n",
    "# in either case one hot encoding is used for non numeric values\n",
    "seed = 1\n",
    "\n",
    "def f(Choose, df_train, df_test):\n",
    "    [car,Bar,CoffeeHouse,CarryAway,RestaurantLessThan20,Restaurant20To50]=[df_train['car'].mode()[0],df_train['Bar'].mode()[0],df_train['CoffeeHouse'].mode()[0],\n",
    "                      df_train['CarryAway'].mode()[0], df_train['RestaurantLessThan20'].mode()[0],df_train['Restaurant20To50'].mode()[0]] # the .mode()[0] function returns the most frequent value in the car colum \n",
    "    \n",
    "    if Choose == 'MostFrequent':\n",
    "        #fillna replaces all missing values with the specified value\n",
    "        df_train['car'].fillna(car, inplace=True)\n",
    "        df_train['Bar'].fillna(Bar, inplace=True)\n",
    "        df_train['CoffeeHouse'].fillna(CoffeeHouse, inplace=True)\n",
    "        df_train['CarryAway'].fillna(CarryAway, inplace=True)\n",
    "        df_train['RestaurantLessThan20'].fillna(RestaurantLessThan20, inplace=True)\n",
    "        df_train['Restaurant20To50'].fillna(Restaurant20To50, inplace=True)\n",
    "\n",
    "        df_test['car'].fillna(car, inplace=True)\n",
    "        df_test['Bar'].fillna(Bar, inplace=True)\n",
    "        df_test['CoffeeHouse'].fillna(CoffeeHouse, inplace=True)\n",
    "        df_test['CarryAway'].fillna(CarryAway, inplace=True)\n",
    "        df_test['RestaurantLessThan20'].fillna(RestaurantLessThan20, inplace=True)\n",
    "        df_test['Restaurant20To50'].fillna(Restaurant20To50, inplace=True)\n",
    "\n",
    "        #get_dummies applies one hot encoding\n",
    "        df_train=pd.get_dummies(df_train, columns=OneHot,prefix=OneHotPref, prefix_sep='', dummy_na=True)\n",
    "        df_test=pd.get_dummies(df_test, columns=OneHot,prefix=OneHotPref, prefix_sep='', dummy_na=True)\n",
    "        \n",
    "        # ensure that shapes are consistent after one-hot encoding. If one possible value of car e.g.\n",
    "        #is missing in the test set, the number of columns will differ after one hot encoding with the training set\n",
    "        # without the align method\n",
    "        df_train, df_test = df_train.align(df_test, join='outer', axis=1, fill_value=0)\n",
    "        \n",
    "    \n",
    "    elif Choose == 'OwnCategory':\n",
    "        # note that get_dummies automatically encodes missing values with (0,0,..0) they hence are their\n",
    "        # own category without additional work\n",
    "        df_train=pd.get_dummies(df_train, columns=OneHot,prefix=OneHotPref, prefix_sep='', dummy_na=True)\n",
    "        df_test=pd.get_dummies(df_test, columns=OneHot,prefix=OneHotPref, prefix_sep='', dummy_na=True)\n",
    "        df_train, df_test = df_train.align(df_test, join='outer', axis=1, fill_value=0)\n",
    "        \n",
    "    else:\n",
    "        print(\"Invalid input argument. You can choose between 'MostFrequent' and 'OwnCategory'\")\n",
    "        \n",
    "    if df_train.shape[1] != df_test.shape[1]:\n",
    "        print(\"Inconsistent shapes after one hot encoding.\")\n",
    "        return None    \n",
    "        \n",
    "    return df_train, df_test   "
   ]
  },
  {
   "attachments": {},
   "cell_type": "markdown",
   "id": "9d1d1a8b",
   "metadata": {
    "papermill": {
     "duration": 0.012982,
     "end_time": "2023-04-29T12:08:25.999389",
     "exception": false,
     "start_time": "2023-04-29T12:08:25.986407",
     "status": "completed"
    },
    "tags": []
   },
   "source": [
    "**Scaling function**"
   ]
  },
  {
   "cell_type": "code",
   "execution_count": null,
   "id": "5bd030d0",
   "metadata": {
    "execution": {
     "iopub.execute_input": "2023-04-29T12:08:26.028959Z",
     "iopub.status.busy": "2023-04-29T12:08:26.028505Z",
     "iopub.status.idle": "2023-04-29T12:08:26.037014Z",
     "shell.execute_reply": "2023-04-29T12:08:26.035384Z"
    },
    "papermill": {
     "duration": 0.027791,
     "end_time": "2023-04-29T12:08:26.040056",
     "exception": false,
     "start_time": "2023-04-29T12:08:26.012265",
     "status": "completed"
    },
    "tags": []
   },
   "outputs": [],
   "source": [
    "#The following function takes the training, validation and test set as input, as well as the option\n",
    "# 'minMax' or 'normalize' and returns the data sets in scaled form using either minmax scaling or\n",
    "# normalizatin. The scaling parameters are taken from the test set first and then applied to the validation and test set\n",
    "\n",
    "def scale(df_train, df_test,Option):\n",
    "    if Option == 'minMax':\n",
    "        scaler_minmax = MinMaxScaler()\n",
    "        df_train[Interval] = scaler_minmax.fit_transform(df_train[Interval])\n",
    "        df_test[Interval] = scaler_minmax.transform(df_test[Interval])\n",
    "    elif Option == 'normalize':\n",
    "        scaler_norm = StandardScaler()\n",
    "        df_train[Interval] = scaler_norm.fit_transform(df_train[Interval])\n",
    "        df_test[Interval] = scaler_norm.transform(df_test[Interval])\n",
    "    elif Option == 'None':\n",
    "        df_train=df_train\n",
    "        df_test=df_test\n",
    "        \n",
    "    else:\n",
    "        print(\"Invalid option. 'minMax', 'normalize' and 'None' are allowed. \")\n",
    "        \n",
    "    return df_train, df_test"
   ]
  },
  {
   "attachments": {},
   "cell_type": "markdown",
   "id": "42529c3b",
   "metadata": {
    "papermill": {
     "duration": 0.012886,
     "end_time": "2023-04-29T12:08:26.067126",
     "exception": false,
     "start_time": "2023-04-29T12:08:26.054240",
     "status": "completed"
    },
    "tags": []
   },
   "source": [
    "**Train neural network k-fold cross validation**"
   ]
  },
  {
   "cell_type": "code",
   "execution_count": null,
   "id": "21ae1d21",
   "metadata": {
    "execution": {
     "iopub.execute_input": "2023-04-29T12:08:26.094936Z",
     "iopub.status.busy": "2023-04-29T12:08:26.094457Z",
     "iopub.status.idle": "2023-04-29T12:08:26.110127Z",
     "shell.execute_reply": "2023-04-29T12:08:26.109140Z"
    },
    "papermill": {
     "duration": 0.032177,
     "end_time": "2023-04-29T12:08:26.112668",
     "exception": false,
     "start_time": "2023-04-29T12:08:26.080491",
     "status": "completed"
    },
    "tags": []
   },
   "outputs": [],
   "source": [
    "# the KFOLD function does a kfold cross validation and returns the averaged accuracy and recall + standard deviation over\n",
    "# all folds, as well as the trivial baseline (put in majority class) as comparison\n",
    "seed = 1\n",
    "def KFOLD(k, N1, MissingVal, Scaling, layers): \n",
    "    df_input = df.drop('Y', axis=1) # input values \n",
    "    df_output = df['Y'] # output\n",
    "\n",
    "    # define the k-fold cross validation object\n",
    "    kfold = KFold(n_splits=k, shuffle=True, random_state=seed)\n",
    "\n",
    "    # perform the k-fold cross validation and get the results\n",
    "    scores_mse = []\n",
    "    scores_mae = []\n",
    "    scores_recall = []\n",
    "    scores_accuracy = []\n",
    "    baseline_recall = []\n",
    "    baseline_accuracy = []\n",
    "\n",
    "    for train_index, test_index in kfold.split(df_input):\n",
    "        # split the data into training and test sets for this fold\n",
    "        df_input_train_fold, df_input_test_fold = df_input.iloc[train_index].copy(), df_input.iloc[test_index].copy()\n",
    "        df_output_train_fold, df_output_test_fold = df_output.iloc[train_index], df_output.iloc[test_index]\n",
    "\n",
    "        # compute baseline recall and accuracy\n",
    "        majority_class = df_output_train_fold.mode()[0]\n",
    "        baseline_recall_fold = recall_score(df_output_test_fold, [majority_class] * len(df_output_test_fold))\n",
    "        baseline_accuracy_fold = accuracy_score(df_output_test_fold, [majority_class] * len(df_output_test_fold))\n",
    "        baseline_recall.append(baseline_recall_fold)\n",
    "        baseline_accuracy.append(baseline_accuracy_fold)\n",
    "\n",
    "        # data preparation\n",
    "        df_input_train_fold, df_input_test_fold = f(MissingVal, df_input_train_fold, df_input_test_fold)  #Choose between 'MostFrequent' and 'OwnCategory' for dealing with missing values\n",
    "        df_input_train_fold, df_input_test_fold = scale(df_input_train_fold, df_input_test_fold,Scaling) # choose 'minMax' or 'normalize' scalinig\n",
    "\n",
    "        #define model\n",
    "        model = Sequential() # linear stack of layers where you can add as many layers as you want\n",
    "        model.add(Dense(N1, input_dim=df_input_train_fold.shape[1], activation='relu')) #add lay ofer 64 neurons\n",
    "        if layers == 2:\n",
    "             model.add(Dense(N1, input_dim=N1, activation='relu')) #add lay ofer 64 neurons\n",
    "        \n",
    "        model.add(Dense(1, activation='sigmoid')) # sigmoid ensures that the ourput is between 0 and 1. This can be seen as probablities\n",
    "\n",
    "        model.compile(loss='mean_squared_error', optimizer='adam', metrics=['mae'])\n",
    "\n",
    "        # train the model on the training set for this fold\n",
    "        model.fit(df_input_train_fold, df_output_train_fold, epochs=100, batch_size=32, verbose=0)\n",
    "\n",
    "        # evaluate the model on the test set for this fold\n",
    "        Y_pred_fold = model.predict(df_input_test_fold)\n",
    "        Y_pred_fold = np.round(Y_pred_fold) # round the predicted values to 0 or 1\n",
    "\n",
    "        mse = mean_squared_error(df_output_test_fold, Y_pred_fold)\n",
    "        mae = mean_absolute_error(df_output_test_fold, Y_pred_fold)\n",
    "        recall = recall_score(df_output_test_fold, Y_pred_fold)\n",
    "        accuracy = accuracy_score(df_output_test_fold, Y_pred_fold)\n",
    "        scores_mse.append(mse)\n",
    "        scores_mae.append(mae)\n",
    "        scores_recall.append(recall)\n",
    "        scores_accuracy.append(accuracy)\n",
    "    return (np.mean(scores_recall), np.std(scores_recall)), (np.mean(scores_accuracy), np.std(scores_accuracy)), (np.mean(baseline_recall), np.std(baseline_recall)), (np.mean(baseline_accuracy), np.std(baseline_accuracy))\n",
    "\n"
   ]
  },
  {
   "attachments": {},
   "cell_type": "markdown",
   "id": "87ffc0c3",
   "metadata": {
    "papermill": {
     "duration": 0.01194,
     "end_time": "2023-04-29T12:08:26.136983",
     "exception": false,
     "start_time": "2023-04-29T12:08:26.125043",
     "status": "completed"
    },
    "tags": []
   },
   "source": [
    "**Train neural network holdout**"
   ]
  },
  {
   "cell_type": "code",
   "execution_count": null,
   "id": "36b5f979",
   "metadata": {
    "execution": {
     "iopub.execute_input": "2023-04-29T12:08:26.163995Z",
     "iopub.status.busy": "2023-04-29T12:08:26.162714Z",
     "iopub.status.idle": "2023-04-29T12:08:26.174500Z",
     "shell.execute_reply": "2023-04-29T12:08:26.173545Z"
    },
    "papermill": {
     "duration": 0.028022,
     "end_time": "2023-04-29T12:08:26.177164",
     "exception": false,
     "start_time": "2023-04-29T12:08:26.149142",
     "status": "completed"
    },
    "tags": []
   },
   "outputs": [],
   "source": [
    "seed = 1\n",
    "def HoldOUT(test_frac, N1, MissingVal, Scaling, layers):\n",
    "    df_input = df.drop('Y', axis=1) # input values \n",
    "    df_output = df['Y'] # output\n",
    "\n",
    "    # split the data into training and test sets\n",
    "    df_input_train, df_input_test, df_output_train, df_output_test = train_test_split(df_input, df_output, test_size=test_frac, random_state=seed, shuffle=True)\n",
    "\n",
    "\n",
    "    # compute baseline recall and accuracy\n",
    "    majority_class = df_output_train.mode()[0]\n",
    "    baseline_recall = recall_score(df_output_test, [majority_class] * len(df_output_test))\n",
    "    baseline_accuracy = accuracy_score(df_output_test, [majority_class] * len(df_output_test))\n",
    "\n",
    "    # data preparation\n",
    "    df_input_train, df_input_test = f(MissingVal, df_input_train, df_input_test)  #Choose between 'MostFrequent' and 'OwnCategory' for dealing with missing values\n",
    "    df_input_train, df_input_test = scale(df_input_train, df_input_test, Scaling) # choose 'minMax' or 'normalize' scalinig\n",
    "\n",
    "    model = Sequential() # linear stack of layers where you can add as many layers as you want\n",
    "    model.add(Dense(N1, input_dim=df_input_train.shape[1], activation='relu')) #add lay ofer 64 neurons\n",
    "    if layers == 2:\n",
    "             model.add(Dense(N1, input_dim=N1, activation='relu')) #add lay ofer 64 neurons\n",
    "    model.add(Dense(1, activation='sigmoid')) # sigmoid ensures that the ourput is between 0 and 1. This can be seen as probablities\n",
    "\n",
    "    model.compile(loss='mean_squared_error', optimizer='adam', metrics=['mae'])\n",
    "\n",
    "    # train the model on the training set\n",
    "    model.fit(df_input_train, df_output_train, epochs=100, batch_size=32, verbose=0)\n",
    "\n",
    "    # evaluate the model on the test set\n",
    "    Y_pred = model.predict(df_input_test)\n",
    "    Y_pred = np.round(Y_pred) # round the predicted values to 0 or 1\n",
    "\n",
    "    mse = mean_squared_error(df_output_test, Y_pred)\n",
    "    mae = mean_absolute_error(df_output_test, Y_pred)\n",
    "    recall = recall_score(df_output_test, Y_pred)\n",
    "    accuracy = accuracy_score(df_output_test, Y_pred)\n",
    "    \n",
    "    return recall, accuracy, baseline_recall, baseline_accuracy\n"
   ]
  },
  {
   "attachments": {},
   "cell_type": "markdown",
   "id": "2656f88f",
   "metadata": {
    "execution": {
     "iopub.execute_input": "2023-04-06T07:04:29.947797Z",
     "iopub.status.busy": "2023-04-06T07:04:29.947395Z",
     "iopub.status.idle": "2023-04-06T07:04:30.675983Z",
     "shell.execute_reply": "2023-04-06T07:04:30.674652Z",
     "shell.execute_reply.started": "2023-04-06T07:04:29.947762Z"
    },
    "papermill": {
     "duration": 0.011561,
     "end_time": "2023-04-29T12:08:26.200718",
     "exception": false,
     "start_time": "2023-04-29T12:08:26.189157",
     "status": "completed"
    },
    "tags": []
   },
   "source": [
    "**Optimize NN based on k-fold cross validation first for N1 one hidden layer**"
   ]
  },
  {
   "cell_type": "code",
   "execution_count": null,
   "id": "9faee316",
   "metadata": {
    "execution": {
     "iopub.execute_input": "2023-04-29T12:08:26.227965Z",
     "iopub.status.busy": "2023-04-29T12:08:26.227241Z",
     "iopub.status.idle": "2023-04-29T12:22:13.608940Z",
     "shell.execute_reply": "2023-04-29T12:22:13.607461Z"
    },
    "papermill": {
     "duration": 827.3983,
     "end_time": "2023-04-29T12:22:13.611676",
     "exception": false,
     "start_time": "2023-04-29T12:08:26.213376",
     "status": "completed"
    },
    "tags": []
   },
   "outputs": [],
   "source": [
    "# the results here have been optained from running the above cells for different parameters\n",
    "# first parameter k = 4 is kept fixed and I optimize accuracy and recall for N1\n",
    "for var in ['k', 'MissingVal', 'Scaling', 'layers', 'N1', 'Accuracy', 'AccuracyStd', 'Recall', 'RecallStd', 'AccuracyBaseline', 'RecallBaseline']:\n",
    "    if var in globals():\n",
    "        del globals()[var]\n",
    "\n",
    "k=4\n",
    "MissingVal = 'MostFrequent' # choose between replacing missing values with 'MostFrequent' or 'OwnCategory'\n",
    "Scaling = 'normalize' # for scaling you can choose between 'normalize' or 'minMax' or 'None'\n",
    "layers = 1\n",
    "\n",
    "N1 = [1,10,50,100,200]\n",
    "Accuracy = []\n",
    "AccuracyStd = []\n",
    "Recall = []\n",
    "RecallStd = []\n",
    "AccuracyBaseline = []\n",
    "RecallBaseline = []\n",
    "\n",
    "for N in N1:\n",
    "    RecallA, AccuracyA, RecallBaselineA, AccuracyBaselineA = KFOLD(k, N, MissingVal, Scaling, layers)\n",
    "    Accuracy.append(AccuracyA[0])\n",
    "    AccuracyStd.append(AccuracyA[1])\n",
    "    Recall.append(RecallA[0])\n",
    "    RecallStd.append(RecallA[1])\n",
    "    AccuracyBaseline.append(AccuracyBaselineA[0])\n",
    "    RecallBaseline.append(RecallBaselineA[0])\n",
    "    \n",
    "print('Accuracy:')\n",
    "print(Accuracy)\n",
    "print('Accuracy Std:')\n",
    "print(AccuracyStd)\n",
    "print('Recall:')\n",
    "print(Recall)\n",
    "print('RecallStd')\n",
    "print(RecallStd)\n",
    "print('AccuracyBaseline')\n",
    "print(AccuracyBaseline)\n",
    "print('RecallBaseline')\n",
    "print(RecallBaseline)"
   ]
  },
  {
   "attachments": {},
   "cell_type": "markdown",
   "id": "15e03ca1",
   "metadata": {
    "papermill": {
     "duration": 0.016108,
     "end_time": "2023-04-29T12:22:13.644273",
     "exception": false,
     "start_time": "2023-04-29T12:22:13.628165",
     "status": "completed"
    },
    "tags": []
   },
   "source": [
    "**Optimize NN based on k-fold cross validation first for N1 two hidden layer**"
   ]
  },
  {
   "cell_type": "code",
   "execution_count": null,
   "id": "79fe91d7",
   "metadata": {
    "execution": {
     "iopub.execute_input": "2023-04-29T12:22:13.679771Z",
     "iopub.status.busy": "2023-04-29T12:22:13.678563Z",
     "iopub.status.idle": "2023-04-29T12:37:50.614545Z",
     "shell.execute_reply": "2023-04-29T12:37:50.613136Z"
    },
    "papermill": {
     "duration": 936.957027,
     "end_time": "2023-04-29T12:37:50.617617",
     "exception": false,
     "start_time": "2023-04-29T12:22:13.660590",
     "status": "completed"
    },
    "tags": []
   },
   "outputs": [],
   "source": [
    "# the results here have been optained from running the above cells for different parameters\n",
    "# first parameter k = 4 is kept fixed and I optimize accuracy and recall for N1\n",
    "for var in ['k', 'MissingVal', 'Scaling', 'layers', 'N1', 'Accuracy', 'AccuracyStd', 'Recall', 'RecallStd', 'AccuracyBaseline', 'RecallBaseline']:\n",
    "    if var in globals():\n",
    "        del globals()[var]\n",
    "\n",
    "k=4\n",
    "MissingVal = 'MostFrequent' # choose between replacing missing values with 'MostFrequent' or 'OwnCategory'\n",
    "Scaling = 'normalize' # for scaling you can choose between 'normalize' or 'minMax' or 'None'\n",
    "layers = 2\n",
    "\n",
    "N1 = [1,10,50,100,200]\n",
    "Accuracy = []\n",
    "AccuracyStd = []\n",
    "Recall = []\n",
    "RecallStd = []\n",
    "AccuracyBaseline = []\n",
    "RecallBaseline = []\n",
    "\n",
    "for N in N1:\n",
    "    RecallA, AccuracyA, RecallBaselineA, AccuracyBaselineA = KFOLD(k, N, MissingVal, Scaling, layers)\n",
    "    Accuracy.append(AccuracyA[0])\n",
    "    AccuracyStd.append(AccuracyA[1])\n",
    "    Recall.append(RecallA[0])\n",
    "    RecallStd.append(RecallA[1])\n",
    "    AccuracyBaseline.append(AccuracyBaselineA[0])\n",
    "    RecallBaseline.append(RecallBaselineA[0])\n",
    "    \n",
    "print('Accuracy:')\n",
    "print(Accuracy)\n",
    "print('Accuracy Std:')\n",
    "print(AccuracyStd)\n",
    "print('Recall:')\n",
    "print(Recall)\n",
    "print('RecallStd')\n",
    "print(RecallStd)\n",
    "print('AccuracyBaseline')\n",
    "print(AccuracyBaseline)\n",
    "print('RecallBaseline')\n",
    "print(RecallBaseline)"
   ]
  },
  {
   "attachments": {},
   "cell_type": "markdown",
   "id": "1f4bb4bf",
   "metadata": {
    "papermill": {
     "duration": 0.021363,
     "end_time": "2023-04-29T12:37:50.660250",
     "exception": false,
     "start_time": "2023-04-29T12:37:50.638887",
     "status": "completed"
    },
    "tags": []
   },
   "source": [
    "**Optimize NN k-fold based on k**"
   ]
  },
  {
   "cell_type": "code",
   "execution_count": null,
   "id": "ea6c76d1",
   "metadata": {
    "execution": {
     "iopub.execute_input": "2023-04-29T12:37:50.706571Z",
     "iopub.status.busy": "2023-04-29T12:37:50.705709Z",
     "iopub.status.idle": "2023-04-29T12:46:45.876977Z",
     "shell.execute_reply": "2023-04-29T12:46:45.875508Z"
    },
    "papermill": {
     "duration": 535.197427,
     "end_time": "2023-04-29T12:46:45.879631",
     "exception": false,
     "start_time": "2023-04-29T12:37:50.682204",
     "status": "completed"
    },
    "tags": []
   },
   "outputs": [],
   "source": [
    "# from the above optimization, I saw that the architecture single HL and 100 Neurons reaches about optimal performance\n",
    "# I take this as a starting value and optimize based on k = 2 - 5\n",
    "for var in ['k', 'MissingVal', 'Scaling', 'layers', 'N1', 'Accuracy', 'AccuracyStd', 'Recall', 'RecallStd', 'AccuracyBaseline', 'RecallBaseline']:\n",
    "    if var in globals():\n",
    "        del globals()[var]\n",
    "# the results here have been optained from running the above cells for different parameters\n",
    "# first parameter k = 4 is kept fixed and I optimize accuracy and recall for N1\n",
    "MissingVal = 'MostFrequent' # choose between replacing missing values with 'MostFrequent' or 'OwnCategory'\n",
    "Scaling = 'normalize' # for scaling you can choose between 'normalize' or 'minMax' or 'None'\n",
    "layers = 1\n",
    "\n",
    "k = [2,3,4,5]\n",
    "Accuracy = []\n",
    "AccuracyStd = []\n",
    "Recall = []\n",
    "RecallStd = []\n",
    "AccuracyBaseline = []\n",
    "RecallBaseline = []\n",
    "\n",
    "for N in k:\n",
    "    RecallA, AccuracyA, RecallBaselineA, AccuracyBaselineA = KFOLD(N, 100, MissingVal, Scaling, 1)\n",
    "    Accuracy.append(AccuracyA[0])\n",
    "    AccuracyStd.append(AccuracyA[1])\n",
    "    Recall.append(RecallA[0])\n",
    "    RecallStd.append(RecallA[1])\n",
    "    AccuracyBaseline.append(AccuracyBaselineA[0])\n",
    "    RecallBaseline.append(RecallBaselineA[0])\n",
    "    \n",
    "print('Accuracy:')\n",
    "print(Accuracy)\n",
    "print('Accuracy Std:')\n",
    "print(AccuracyStd)\n",
    "print('Recall:')\n",
    "print(Recall)\n",
    "print('RecallStd')\n",
    "print(RecallStd)\n",
    "print('AccuracyBaseline')\n",
    "print(AccuracyBaseline)\n",
    "print('RecallBaseline')\n",
    "print(RecallBaseline)"
   ]
  },
  {
   "attachments": {},
   "cell_type": "markdown",
   "id": "8ef7c324",
   "metadata": {
    "papermill": {
     "duration": 0.02451,
     "end_time": "2023-04-29T12:46:45.928902",
     "exception": false,
     "start_time": "2023-04-29T12:46:45.904392",
     "status": "completed"
    },
    "tags": []
   },
   "source": [
    " **Compare different data preps for final results k-Fold**"
   ]
  },
  {
   "cell_type": "code",
   "execution_count": null,
   "id": "5a9c8032",
   "metadata": {
    "execution": {
     "iopub.execute_input": "2023-04-29T12:46:45.981022Z",
     "iopub.status.busy": "2023-04-29T12:46:45.980579Z",
     "iopub.status.idle": "2023-04-29T12:50:17.700024Z",
     "shell.execute_reply": "2023-04-29T12:50:17.698721Z"
    },
    "papermill": {
     "duration": 211.748487,
     "end_time": "2023-04-29T12:50:17.702740",
     "exception": false,
     "start_time": "2023-04-29T12:46:45.954253",
     "status": "completed"
    },
    "tags": []
   },
   "outputs": [],
   "source": [
    "# from the above analysis we saw that one hidden layer with 100 neurons and k = 5 reaches about optimal performance\n",
    "# lastly we will check what happens \n",
    "for var in ['k', 'MissingVal', 'Scaling', 'layers', 'N1', 'Accuracy', 'AccuracyStd', 'Recall', 'RecallStd', 'AccuracyBaseline', 'RecallBaseline']:\n",
    "    if var in globals():\n",
    "        del globals()[var]\n",
    "k = 5\n",
    "N1 = 100\n",
    "MissingVal = 'MostFrequent' # choose between replacing missing values with 'MostFrequent' or 'OwnCategory'\n",
    "Scaling = 'None' # for scaling you can choose between 'normalize' or 'minMax' or 'None'\n",
    "\n",
    "RecallA, AccuracyA, RecallBaselineA, AccuracyBaselineA = KFOLD(k, N1, MissingVal, Scaling, 1)\n",
    "Accuracy = AccuracyA[0]\n",
    "AccuracyStd = AccuracyA[1]\n",
    "Recall = RecallA[0]\n",
    "RecallStd = RecallA[1]\n",
    "AccuracyBaseline = AccuracyBaselineA[0]\n",
    "RecallBaseline = RecallBaselineA[0]\n",
    "\n",
    "print('Accuracy:')\n",
    "print(Accuracy)\n",
    "print('Accuracy Std:')\n",
    "print(AccuracyStd)\n",
    "print('Recall:')\n",
    "print(Recall)\n",
    "print('RecallStd')\n",
    "print(RecallStd)\n",
    "print('AccuracyBaseline')\n",
    "print(AccuracyBaseline)\n",
    "print('RecallBaseline')\n",
    "print(RecallBaseline)"
   ]
  },
  {
   "attachments": {},
   "cell_type": "markdown",
   "id": "fb0c7b39",
   "metadata": {
    "papermill": {
     "duration": 0.025413,
     "end_time": "2023-04-29T12:50:17.754485",
     "exception": false,
     "start_time": "2023-04-29T12:50:17.729072",
     "status": "completed"
    },
    "tags": []
   },
   "source": [
    "**Optimize N1 with holdout one and two hidden layer**"
   ]
  },
  {
   "cell_type": "code",
   "execution_count": null,
   "id": "ea9c7492",
   "metadata": {
    "execution": {
     "iopub.execute_input": "2023-04-29T12:50:17.810033Z",
     "iopub.status.busy": "2023-04-29T12:50:17.809590Z",
     "iopub.status.idle": "2023-04-29T12:57:55.233799Z",
     "shell.execute_reply": "2023-04-29T12:57:55.232220Z"
    },
    "papermill": {
     "duration": 457.454921,
     "end_time": "2023-04-29T12:57:55.236366",
     "exception": false,
     "start_time": "2023-04-29T12:50:17.781445",
     "status": "completed"
    },
    "tags": []
   },
   "outputs": [],
   "source": [
    "# first I optimize N1 with holdout assuming testset of 0.2 fixed\n",
    "for var in ['k', 'MissingVal', 'Scaling', 'layers', 'N1', 'Accuracy', 'AccuracyStd', 'Recall', 'RecallStd', 'AccuracyBaseline', 'RecallBaseline']:\n",
    "    if var in globals():\n",
    "        del globals()[var]\n",
    "        \n",
    "test_frac=0.2 #fraction of test set\n",
    "layers = 1 # 1 or 2 hidden layers for NN\n",
    "MissingVal = 'MostFrequent' # choose between replacing missing values with 'MostFrequent' or 'OwnCategory'\n",
    "Scaling = 'normalize' # for scaling you can choose between 'normalize' or 'minMax' or 'None'\n",
    "\n",
    "N1 = [1,10,50,100,200]\n",
    "Accuracy = []\n",
    "Recall = []\n",
    "AccuracyBaseline = []\n",
    "RecallBaseline = []\n",
    "\n",
    "for N in N1:\n",
    "    recall, accuracy, baseline_recall, baseline_accuracy = HoldOUT(test_frac, N, MissingVal, Scaling, layers)\n",
    "    Accuracy.append(accuracy)\n",
    "    Recall.append(recall)\n",
    "    AccuracyBaseline.append(baseline_accuracy)\n",
    "    RecallBaseline.append(baseline_recall)\n",
    "    \n",
    "\n",
    "print('First one hidden layer')\n",
    "print('Accuracy:')\n",
    "print(Accuracy)\n",
    "print('Recall:')\n",
    "print(Recall)\n",
    "print('AccuracyBaseline')\n",
    "print(AccuracyBaseline)\n",
    "print('RecallBaseline')\n",
    "print(RecallBaseline)\n",
    "\n",
    "print('Now two hidden layers')\n",
    "for var in ['k', 'MissingVal', 'Scaling', 'layers', 'N1', 'Accuracy', 'AccuracyStd', 'Recall', 'RecallStd', 'AccuracyBaseline', 'RecallBaseline']:\n",
    "    if var in globals():\n",
    "        del globals()[var]\n",
    "        \n",
    "test_frac=0.2 #fraction of test set\n",
    "layers = 2 # 1 or 2 hidden layers for NN\n",
    "MissingVal = 'MostFrequent' # choose between replacing missing values with 'MostFrequent' or 'OwnCategory'\n",
    "Scaling = 'normalize' # for scaling you can choose between 'normalize' or 'minMax' or 'None'\n",
    "\n",
    "N1 = [1,10,50,100,200]\n",
    "Accuracy = []\n",
    "Recall = []\n",
    "AccuracyBaseline = []\n",
    "RecallBaseline = []\n",
    "\n",
    "for N in N1:\n",
    "    recall, accuracy, baseline_recall, baseline_accuracy = HoldOUT(test_frac, N, MissingVal, Scaling, layers)\n",
    "    Accuracy.append(accuracy)\n",
    "    Recall.append(recall)\n",
    "    AccuracyBaseline.append(baseline_accuracy)\n",
    "    RecallBaseline.append(baseline_recall)\n",
    "    \n",
    "print('Accuracy:')\n",
    "print(Accuracy)\n",
    "print('Recall:')\n",
    "print(Recall)\n",
    "print('AccuracyBaseline')\n",
    "print(AccuracyBaseline)\n",
    "print('RecallBaseline')\n",
    "print(RecallBaseline)"
   ]
  },
  {
   "attachments": {},
   "cell_type": "markdown",
   "id": "2b6decde",
   "metadata": {
    "papermill": {
     "duration": 0.027573,
     "end_time": "2023-04-29T12:57:55.291771",
     "exception": false,
     "start_time": "2023-04-29T12:57:55.264198",
     "status": "completed"
    },
    "tags": []
   },
   "source": [
    "**optimize test fraction holdout**"
   ]
  },
  {
   "cell_type": "code",
   "execution_count": null,
   "id": "369fc600",
   "metadata": {
    "execution": {
     "iopub.execute_input": "2023-04-29T12:57:55.350586Z",
     "iopub.status.busy": "2023-04-29T12:57:55.350162Z",
     "iopub.status.idle": "2023-04-29T13:00:32.382263Z",
     "shell.execute_reply": "2023-04-29T13:00:32.380856Z"
    },
    "papermill": {
     "duration": 157.065134,
     "end_time": "2023-04-29T13:00:32.385502",
     "exception": false,
     "start_time": "2023-04-29T12:57:55.320368",
     "status": "completed"
    },
    "tags": []
   },
   "outputs": [],
   "source": [
    "# first I optimize N1 with holdout assuming testset of 0.2 fixed\n",
    "for var in ['k', 'MissingVal', 'Scaling', 'layers', 'N1', 'Accuracy', 'AccuracyStd', 'Recall', 'RecallStd', 'AccuracyBaseline', 'RecallBaseline']:\n",
    "    if var in globals():\n",
    "        del globals()[var]\n",
    "        \n",
    "test_frac=[0.1, 0.2, 0.4, 0.6, 0.8] #fraction of test set\n",
    "layers = 1 # 1 or 2 hidden layers for NN\n",
    "MissingVal = 'MostFrequent' # choose between replacing missing values with 'MostFrequent' or 'OwnCategory'\n",
    "Scaling = 'normalize' # for scaling you can choose between 'normalize' or 'minMax' or 'None'\n",
    "\n",
    "N1 = 200\n",
    "Accuracy = []\n",
    "Recall = []\n",
    "AccuracyBaseline = []\n",
    "RecallBaseline = []\n",
    "\n",
    "for N in test_frac:\n",
    "    recall, accuracy, baseline_recall, baseline_accuracy = HoldOUT(N, N1, MissingVal, Scaling, layers)\n",
    "    Accuracy.append(accuracy)\n",
    "    Recall.append(recall)\n",
    "    AccuracyBaseline.append(baseline_accuracy)\n",
    "    RecallBaseline.append(baseline_recall)\n",
    "    \n",
    "print('Accuracy:')\n",
    "print(Accuracy)\n",
    "print('Recall:')\n",
    "print(Recall)\n",
    "print('AccuracyBaseline')\n",
    "print(AccuracyBaseline)\n",
    "print('RecallBaseline')\n",
    "print(RecallBaseline)"
   ]
  },
  {
   "attachments": {},
   "cell_type": "markdown",
   "id": "7c0f8ead",
   "metadata": {
    "papermill": {
     "duration": 0.03012,
     "end_time": "2023-04-29T13:00:32.446365",
     "exception": false,
     "start_time": "2023-04-29T13:00:32.416245",
     "status": "completed"
    },
    "tags": []
   },
   "source": [
    "**Comparison of different data preps for holdout**"
   ]
  },
  {
   "cell_type": "code",
   "execution_count": null,
   "id": "37a0024e",
   "metadata": {
    "execution": {
     "iopub.execute_input": "2023-04-29T13:00:32.508456Z",
     "iopub.status.busy": "2023-04-29T13:00:32.508058Z",
     "iopub.status.idle": "2023-04-29T13:01:55.624152Z",
     "shell.execute_reply": "2023-04-29T13:01:55.622212Z"
    },
    "papermill": {
     "duration": 83.151329,
     "end_time": "2023-04-29T13:01:55.627619",
     "exception": false,
     "start_time": "2023-04-29T13:00:32.476290",
     "status": "completed"
    },
    "tags": []
   },
   "outputs": [],
   "source": [
    "# first I optimize N1 with holdout assuming testset of 0.2 fixed\n",
    "for var in ['k', 'MissingVal', 'Scaling', 'layers', 'N1', 'Accuracy', 'AccuracyStd', 'Recall', 'RecallStd', 'AccuracyBaseline', 'RecallBaseline']:\n",
    "    if var in globals():\n",
    "        del globals()[var]\n",
    "        \n",
    "test_frac=0.1 #fraction of test set\n",
    "layers = 1 # 1 or 2 hidden layers for NN\n",
    "MissingVal = 'MostFrequent' # choose between replacing missing values with 'MostFrequent' or 'OwnCategory'\n",
    "Scaling = 'normalize' # for scaling you can choose between 'normalize' or 'minMax' or 'None'\n",
    "\n",
    "N1 = 200\n",
    "\n",
    "recall, accuracy, baseline_recall, baseline_accuracy = HoldOUT(test_frac, N1, MissingVal, Scaling, layers)\n",
    "Accuracy = accuracy\n",
    "Recall = recall\n",
    "AccuracyBaseline = baseline_accuracy\n",
    "RecallBaseline = baseline_recall\n",
    "    \n",
    "print('Accuracy:')\n",
    "print(Accuracy)\n",
    "print('Recall:')\n",
    "print(Recall)\n",
    "print('AccuracyBaseline')\n",
    "print(AccuracyBaseline)\n",
    "print('RecallBaseline')\n",
    "print(RecallBaseline)"
   ]
  },
  {
   "attachments": {},
   "cell_type": "markdown",
   "id": "5c5cf571",
   "metadata": {
    "papermill": {
     "duration": 0.033438,
     "end_time": "2023-04-29T13:01:55.693108",
     "exception": false,
     "start_time": "2023-04-29T13:01:55.659670",
     "status": "completed"
    },
    "tags": []
   },
   "source": [
    "**Final performance on test set for generalization error - Neural network**"
   ]
  },
  {
   "cell_type": "code",
   "execution_count": null,
   "id": "26f78a6f",
   "metadata": {
    "execution": {
     "iopub.execute_input": "2023-04-29T13:01:55.764419Z",
     "iopub.status.busy": "2023-04-29T13:01:55.763996Z",
     "iopub.status.idle": "2023-04-29T13:02:47.523380Z",
     "shell.execute_reply": "2023-04-29T13:02:47.522065Z"
    },
    "papermill": {
     "duration": 51.798923,
     "end_time": "2023-04-29T13:02:47.525833",
     "exception": false,
     "start_time": "2023-04-29T13:01:55.726910",
     "status": "completed"
    },
    "tags": []
   },
   "outputs": [],
   "source": [
    "Scaling = 'normalize'\n",
    "MissingVal = 'MostFrequent'\n",
    "N1=100\n",
    "# We will use 1 Hidden layer with 100 Neurons and normalize scaling\n",
    "df_input_train = df.drop('Y', axis=1) # input values for training, everything but test set\n",
    "df_output_train = df['Y'] # output\n",
    "df_input_test = df_TEST.drop('Y', axis=1) # input values for training, everything but test set\n",
    "df_output_test = df_TEST['Y'] # output\n",
    "\n",
    "df_input_train, df_input_test = f(MissingVal, df_input_train, df_input_test)  #Choose between 'MostFrequent' and 'OwnCategory' for dealing with missing values\n",
    "df_input_train, df_input_test = scale(df_input_train, df_input_test,Scaling)\n",
    "\n",
    "model = Sequential() # linear stack of layers where you can add as many layers as you want\n",
    "model.add(Dense(N1, input_dim=df_input_train.shape[1], activation='relu')) #add lay ofer 64 neurons\n",
    "model.add(Dense(1, activation='sigmoid')) # sigmoid ensures that the ourput is between 0 and 1. This can be seen as probablities\n",
    "\n",
    "model.compile(loss='mean_squared_error', optimizer='adam', metrics=['mae'])\n",
    "\n",
    "# train the model on the training set\n",
    "start_time = time.time()\n",
    "model.fit(df_input_train, df_output_train, epochs=100, batch_size=32, verbose=0)\n",
    "end_time = time.time()\n",
    "\n",
    "print(\"Time taken to fit the NNClassifier: {:.2f} seconds\".format(end_time - start_time))\n",
    "\n",
    "# evaluate the model on the test set\n",
    "\n",
    "\n",
    "start_time = time.time()\n",
    "Y_pred = model.predict(df_input_test)\n",
    "Y_pred = np.round(Y_pred) # round the predicted values to 0 or 1\n",
    "end_time = time.time()\n",
    "\n",
    "print(\"Time for NNClassifiert to predict the training set: {:.2f} seconds\".format(end_time - start_time))\n",
    "\n",
    "\n",
    "\n",
    "recall = recall_score(df_output_test, Y_pred)\n",
    "accuracy = accuracy_score(df_output_test, Y_pred)\n",
    "\n",
    "print(recall)\n",
    "print(accuracy)"
   ]
  },
  {
   "attachments": {},
   "cell_type": "markdown",
   "id": "24ff90ac",
   "metadata": {
    "papermill": {
     "duration": 0.029868,
     "end_time": "2023-04-29T13:02:47.585954",
     "exception": false,
     "start_time": "2023-04-29T13:02:47.556086",
     "status": "completed"
    },
    "tags": []
   },
   "source": [
    "**Random forests - k-Fold cross validtion**"
   ]
  },
  {
   "cell_type": "code",
   "execution_count": null,
   "id": "73e518e4",
   "metadata": {
    "execution": {
     "iopub.execute_input": "2023-04-29T13:02:47.649890Z",
     "iopub.status.busy": "2023-04-29T13:02:47.648519Z",
     "iopub.status.idle": "2023-04-29T13:02:47.663218Z",
     "shell.execute_reply": "2023-04-29T13:02:47.662016Z"
    },
    "papermill": {
     "duration": 0.049293,
     "end_time": "2023-04-29T13:02:47.665770",
     "exception": false,
     "start_time": "2023-04-29T13:02:47.616477",
     "status": "completed"
    },
    "tags": []
   },
   "outputs": [],
   "source": [
    "# the KFOLD function does a kfold cross validation and returns the averaged accuracy and recall + standard deviation over\n",
    "# all folds, as well as the trivial baseline (put in majority class) as comparison\n",
    "seed = 1\n",
    "def KFOLDrf(k, estimators, min_samples_split, MissingVal, Scaling): \n",
    "    df_input = df.drop('Y', axis=1) # input values \n",
    "    df_output = df['Y'] # output\n",
    "\n",
    "    # define the k-fold cross validation object\n",
    "    kfold = KFold(n_splits=k, shuffle=True, random_state=seed)\n",
    "\n",
    "    # perform the k-fold cross validation and get the results\n",
    "    scores_mse = []\n",
    "    scores_mae = []\n",
    "    scores_recall = []\n",
    "    scores_accuracy = []\n",
    "    baseline_recall = []\n",
    "    baseline_accuracy = []\n",
    "\n",
    "    for train_index, test_index in kfold.split(df_input):\n",
    "        # split the data into training and test sets for this fold\n",
    "        df_input_train_fold, df_input_test_fold = df_input.iloc[train_index].copy(), df_input.iloc[test_index].copy()\n",
    "        df_output_train_fold, df_output_test_fold = df_output.iloc[train_index], df_output.iloc[test_index]\n",
    "\n",
    "        # compute baseline recall and accuracy\n",
    "        majority_class = df_output_train_fold.mode()[0]\n",
    "        baseline_recall_fold = recall_score(df_output_test_fold, [majority_class] * len(df_output_test_fold))\n",
    "        baseline_accuracy_fold = accuracy_score(df_output_test_fold, [majority_class] * len(df_output_test_fold))\n",
    "        baseline_recall.append(baseline_recall_fold)\n",
    "        baseline_accuracy.append(baseline_accuracy_fold)\n",
    "\n",
    "        # data preparation\n",
    "        df_input_train_fold, df_input_test_fold = f(MissingVal, df_input_train_fold, df_input_test_fold)  #Choose between 'MostFrequent' and 'OwnCategory' for dealing with missing values\n",
    "        df_input_train_fold, df_input_test_fold = scale(df_input_train_fold, df_input_test_fold,Scaling) # choose 'minMax' or 'normalize' scalinig\n",
    "\n",
    "        #define model\n",
    "        pipeline_rfc = Pipeline([('classifier', RandomForestClassifier(criterion='gini', n_estimators=estimators, random_state=42,min_samples_split=min_samples_split))])\n",
    "        pipeline_rfc.fit(df_input_train_fold, df_output_train_fold)\n",
    "        \n",
    "        # evaluate the model on the test set for this fold\n",
    "        Y_pred_fold = pipeline_rfc.predict(df_input_test_fold)\n",
    "        # round the predicted values to 0 or 1\n",
    "\n",
    "        recall = recall_score(df_output_test_fold, Y_pred_fold)\n",
    "        accuracy = accuracy_score(df_output_test_fold, Y_pred_fold)\n",
    "        scores_recall.append(recall)\n",
    "        scores_accuracy.append(accuracy)\n",
    "    return (np.mean(scores_recall), np.std(scores_recall)), (np.mean(scores_accuracy), np.std(scores_accuracy)), (np.mean(baseline_recall), np.std(baseline_recall)), (np.mean(baseline_accuracy), np.std(baseline_accuracy))\n"
   ]
  },
  {
   "attachments": {},
   "cell_type": "markdown",
   "id": "70fefa50",
   "metadata": {
    "papermill": {
     "duration": 0.029965,
     "end_time": "2023-04-29T13:02:47.726301",
     "exception": false,
     "start_time": "2023-04-29T13:02:47.696336",
     "status": "completed"
    },
    "tags": []
   },
   "source": [
    "**Random forest hold out**"
   ]
  },
  {
   "cell_type": "code",
   "execution_count": null,
   "id": "facf4bd0",
   "metadata": {
    "execution": {
     "iopub.execute_input": "2023-04-29T13:02:47.788710Z",
     "iopub.status.busy": "2023-04-29T13:02:47.788335Z",
     "iopub.status.idle": "2023-04-29T13:02:47.797896Z",
     "shell.execute_reply": "2023-04-29T13:02:47.797026Z"
    },
    "papermill": {
     "duration": 0.043104,
     "end_time": "2023-04-29T13:02:47.800048",
     "exception": false,
     "start_time": "2023-04-29T13:02:47.756944",
     "status": "completed"
    },
    "tags": []
   },
   "outputs": [],
   "source": [
    "seed = 1\n",
    "def HoldOUTrf(test_frac, estimators, min_samples_split, MissingVal, Scaling):\n",
    "    df_input = df.drop('Y', axis=1) # input values \n",
    "    df_output = df['Y'] # output\n",
    "\n",
    "    # split the data into training and test sets\n",
    "    df_input_train, df_input_test, df_output_train, df_output_test = train_test_split(df_input, df_output, test_size=test_frac, random_state=seed, shuffle=True)\n",
    "\n",
    "    # compute baseline recall and accuracy\n",
    "    majority_class = df_output_train.mode()[0]\n",
    "    baseline_recall = recall_score(df_output_test, [majority_class] * len(df_output_test))\n",
    "    baseline_accuracy = accuracy_score(df_output_test, [majority_class] * len(df_output_test))\n",
    "    \n",
    "    # data preparation\n",
    "    df_input_train, df_input_test = f(MissingVal, df_input_train, df_input_test)  #Choose between 'MostFrequent' and 'OwnCategory' for dealing with missing values\n",
    "    df_input_train, df_input_test = scale(df_input_train, df_input_test, Scaling) # choose 'minMax' or 'normalize' scalinig\n",
    "\n",
    "    #define model\n",
    "    pipeline_rfc = Pipeline([('classifier', RandomForestClassifier(criterion='gini', n_estimators=estimators, random_state=42,min_samples_split=min_samples_split))])\n",
    "    pipeline_rfc.fit(df_input_train, df_output_train)\n",
    "        \n",
    "    # evaluate the model on the test set for this fold\n",
    "    Y_pred = pipeline_rfc.predict(df_input_test)\n",
    "    # round the predicted values to 0 or 1\n",
    "\n",
    "    recall = recall_score(df_output_test, Y_pred)\n",
    "    accuracy = accuracy_score(df_output_test, Y_pred)\n",
    "    \n",
    "    return recall, accuracy, baseline_recall, baseline_accuracy"
   ]
  },
  {
   "attachments": {},
   "cell_type": "markdown",
   "id": "119193ec",
   "metadata": {
    "papermill": {
     "duration": 0.03007,
     "end_time": "2023-04-29T13:02:47.860869",
     "exception": false,
     "start_time": "2023-04-29T13:02:47.830799",
     "status": "completed"
    },
    "tags": []
   },
   "source": [
    "**Random forest out of bag error**"
   ]
  },
  {
   "cell_type": "code",
   "execution_count": null,
   "id": "840ffdd4",
   "metadata": {
    "execution": {
     "iopub.execute_input": "2023-04-29T13:02:47.923938Z",
     "iopub.status.busy": "2023-04-29T13:02:47.923156Z",
     "iopub.status.idle": "2023-04-29T13:02:47.932857Z",
     "shell.execute_reply": "2023-04-29T13:02:47.931519Z"
    },
    "papermill": {
     "duration": 0.044397,
     "end_time": "2023-04-29T13:02:47.935477",
     "exception": false,
     "start_time": "2023-04-29T13:02:47.891080",
     "status": "completed"
    },
    "tags": []
   },
   "outputs": [],
   "source": [
    "seed = 1\n",
    "def OOB(estimators, min_samples_split, MissingVal, Scaling):\n",
    "    df_input = df.drop('Y', axis=1) # input values \n",
    "    df_output = df['Y'] # output\n",
    "    \n",
    "    df_input_dummy = df_input\n",
    "    df_output_dummy = df_output\n",
    "\n",
    "    # compute baseline recall and accuracy\n",
    "    majority_class = df_output.mode()[0]\n",
    "    baseline_recall = recall_score(df_output, [majority_class] * len(df_output))\n",
    "    baseline_accuracy = accuracy_score(df_output, [majority_class] * len(df_output))\n",
    "    \n",
    "    # data preparation\n",
    "    df_input, df_input_dummy = f(MissingVal, df_input, df_input_dummy)  #Choose between 'MostFrequent' and 'OwnCategory' for dealing with missing values\n",
    "    df_input, df_output_dummy = scale(df_input, df_output_dummy, Scaling) # choose 'minMax' or 'normalize' scalinig\n",
    "\n",
    "    #define model\n",
    "    pipeline_rfc = Pipeline([('classifier', RandomForestClassifier(criterion='gini', n_estimators=estimators, random_state=42, min_samples_split=min_samples_split, oob_score=True))])\n",
    "    pipeline_rfc.fit(df_input, df_output)\n",
    "\n",
    "    recall = recall_score(df_output, pipeline_rfc.predict(df_input), average='macro')\n",
    "    accuracy = pipeline_rfc.named_steps['classifier'].oob_score_\n",
    "    \n",
    "    return recall, accuracy, baseline_recall, baseline_accuracy"
   ]
  },
  {
   "cell_type": "code",
   "execution_count": null,
   "id": "5f78e4d7",
   "metadata": {
    "execution": {
     "iopub.execute_input": "2023-04-29T13:02:47.999709Z",
     "iopub.status.busy": "2023-04-29T13:02:47.999271Z",
     "iopub.status.idle": "2023-04-29T13:02:50.422180Z",
     "shell.execute_reply": "2023-04-29T13:02:50.420867Z"
    },
    "papermill": {
     "duration": 2.457771,
     "end_time": "2023-04-29T13:02:50.424754",
     "exception": false,
     "start_time": "2023-04-29T13:02:47.966983",
     "status": "completed"
    },
    "tags": []
   },
   "outputs": [],
   "source": [
    "Scaling = 'None'\n",
    "MissingVal = 'MostFrequent'\n",
    "min_samples_split = 2\n",
    "estimators = 100\n",
    "\n",
    "recall, accuracy, baseline_recall, baseline_accuracy = OOB(estimators, min_samples_split, MissingVal, Scaling)\n",
    "\n",
    "print('Accuracy:')\n",
    "print(accuracy)\n",
    "print('Recall:')\n",
    "print(recall)"
   ]
  },
  {
   "attachments": {},
   "cell_type": "markdown",
   "id": "48a6b65c",
   "metadata": {
    "papermill": {
     "duration": 0.041671,
     "end_time": "2023-04-29T13:02:50.497226",
     "exception": false,
     "start_time": "2023-04-29T13:02:50.455555",
     "status": "completed"
    },
    "tags": []
   },
   "source": [
    "**Optimize RF number of estimators k-Fold cross validation**"
   ]
  },
  {
   "cell_type": "code",
   "execution_count": null,
   "id": "5af15020",
   "metadata": {
    "execution": {
     "iopub.execute_input": "2023-04-29T13:02:50.577322Z",
     "iopub.status.busy": "2023-04-29T13:02:50.576920Z",
     "iopub.status.idle": "2023-04-29T13:03:32.309353Z",
     "shell.execute_reply": "2023-04-29T13:03:32.307998Z"
    },
    "papermill": {
     "duration": 41.803254,
     "end_time": "2023-04-29T13:03:32.342103",
     "exception": false,
     "start_time": "2023-04-29T13:02:50.538849",
     "status": "completed"
    },
    "tags": []
   },
   "outputs": [],
   "source": [
    "# the results here have been optained from running the above cells for different parameters\n",
    "# first parameter k = 4 is kept fixed and I optimize accuracy and recall for N1\n",
    "for var in ['k', 'MissingVal', 'Scaling', 'layers', 'N1', 'Accuracy', 'AccuracyStd', 'Recall', 'RecallStd', 'AccuracyBaseline', 'RecallBaseline']:\n",
    "    if var in globals():\n",
    "        del globals()[var]\n",
    "\n",
    "k=5\n",
    "MissingVal = 'MostFrequent' # choose between replacing missing values with 'MostFrequent' or 'OwnCategory'\n",
    "Scaling = 'normalize' # for scaling you can choose between 'normalize' or 'minMax' or 'None'\n",
    "min_samples_split = 5\n",
    "\n",
    "ESTIMATORS = [1,10,100,200,300] #number of estimators\n",
    "Accuracy = []\n",
    "AccuracyStd = []\n",
    "Recall = []\n",
    "RecallStd = []\n",
    "AccuracyBaseline = []\n",
    "RecallBaseline = []\n",
    "\n",
    "for N in ESTIMATORS:\n",
    "    RecallA, AccuracyA, RecallBaselineA, AccuracyBaselineA = KFOLDrf(k, N, min_samples_split, MissingVal, Scaling)\n",
    "    Accuracy.append(AccuracyA[0])\n",
    "    AccuracyStd.append(AccuracyA[1])\n",
    "    Recall.append(RecallA[0])\n",
    "    RecallStd.append(RecallA[1])\n",
    "    AccuracyBaseline.append(AccuracyBaselineA[0])\n",
    "    RecallBaseline.append(RecallBaselineA[0])\n",
    "    \n",
    "print('Accuracy:')\n",
    "print(Accuracy)\n",
    "print('Accuracy Std:')\n",
    "print(AccuracyStd)\n",
    "print('Recall:')\n",
    "print(Recall)\n",
    "print('RecallStd')\n",
    "print(RecallStd)\n",
    "print('AccuracyBaseline')\n",
    "print(AccuracyBaseline)\n",
    "print('RecallBaseline')\n",
    "print(RecallBaseline)"
   ]
  },
  {
   "attachments": {},
   "cell_type": "markdown",
   "id": "5ed6343d",
   "metadata": {
    "papermill": {
     "duration": 0.030208,
     "end_time": "2023-04-29T13:03:32.402719",
     "exception": false,
     "start_time": "2023-04-29T13:03:32.372511",
     "status": "completed"
    },
    "tags": []
   },
   "source": [
    "**Optimize min_sample_splits based on kfold**"
   ]
  },
  {
   "cell_type": "code",
   "execution_count": null,
   "id": "dc784be9",
   "metadata": {
    "execution": {
     "iopub.execute_input": "2023-04-29T13:03:32.466515Z",
     "iopub.status.busy": "2023-04-29T13:03:32.466098Z",
     "iopub.status.idle": "2023-04-29T13:04:07.940091Z",
     "shell.execute_reply": "2023-04-29T13:04:07.938655Z"
    },
    "papermill": {
     "duration": 35.539995,
     "end_time": "2023-04-29T13:04:07.973686",
     "exception": false,
     "start_time": "2023-04-29T13:03:32.433691",
     "status": "completed"
    },
    "tags": []
   },
   "outputs": [],
   "source": [
    "# the results here have been optained from running the above cells for different parameters\n",
    "# first parameter k = 4 is kept fixed and I optimize accuracy and recall for N1\n",
    "for var in ['k', 'MissingVal', 'Scaling', 'layers', 'N1', 'Accuracy', 'AccuracyStd', 'Recall', 'RecallStd', 'AccuracyBaseline', 'RecallBaseline']:\n",
    "    if var in globals():\n",
    "        del globals()[var]\n",
    "\n",
    "k=5\n",
    "MissingVal = 'MostFrequent' # choose between replacing missing values with 'MostFrequent' or 'OwnCategory'\n",
    "Scaling = 'normalize' # for scaling you can choose between 'normalize' or 'minMax' or 'None'\n",
    "\n",
    "min_samples_split = [2,5,10,20,100,200] #number of estimators\n",
    "Accuracy = []\n",
    "AccuracyStd = []\n",
    "Recall = []\n",
    "RecallStd = []\n",
    "AccuracyBaseline = []\n",
    "RecallBaseline = []\n",
    "\n",
    "for N in min_samples_split:\n",
    "    RecallA, AccuracyA, RecallBaselineA, AccuracyBaselineA = KFOLDrf(k, 100, N, MissingVal, Scaling)\n",
    "    Accuracy.append(AccuracyA[0])\n",
    "    AccuracyStd.append(AccuracyA[1])\n",
    "    Recall.append(RecallA[0])\n",
    "    RecallStd.append(RecallA[1])\n",
    "    AccuracyBaseline.append(AccuracyBaselineA[0])\n",
    "    RecallBaseline.append(RecallBaselineA[0])\n",
    "    \n",
    "print('Accuracy:')\n",
    "print(Accuracy)\n",
    "print('Accuracy Std:')\n",
    "print(AccuracyStd)\n",
    "print('Recall:')\n",
    "print(Recall)\n",
    "print('RecallStd')\n",
    "print(RecallStd)\n",
    "print('AccuracyBaseline')\n",
    "print(AccuracyBaseline)\n",
    "print('RecallBaseline')\n",
    "print(RecallBaseline)"
   ]
  },
  {
   "attachments": {},
   "cell_type": "markdown",
   "id": "3d2c8514",
   "metadata": {
    "papermill": {
     "duration": 0.030809,
     "end_time": "2023-04-29T13:04:08.035272",
     "exception": false,
     "start_time": "2023-04-29T13:04:08.004463",
     "status": "completed"
    },
    "tags": []
   },
   "source": [
    "**Optimize RF number of estimators hold out**"
   ]
  },
  {
   "cell_type": "code",
   "execution_count": null,
   "id": "641a3dd5",
   "metadata": {
    "execution": {
     "iopub.execute_input": "2023-04-29T13:04:08.100992Z",
     "iopub.status.busy": "2023-04-29T13:04:08.100538Z",
     "iopub.status.idle": "2023-04-29T13:04:16.648479Z",
     "shell.execute_reply": "2023-04-29T13:04:16.646958Z"
    },
    "papermill": {
     "duration": 8.58396,
     "end_time": "2023-04-29T13:04:16.651326",
     "exception": false,
     "start_time": "2023-04-29T13:04:08.067366",
     "status": "completed"
    },
    "tags": []
   },
   "outputs": [],
   "source": [
    "# first I optimize N1 with holdout assuming testset of 0.2 fixed\n",
    "for var in ['k', 'MissingVal', 'Scaling', 'layers', 'N1', 'Accuracy', 'AccuracyStd', 'Recall', 'RecallStd', 'AccuracyBaseline', 'RecallBaseline']:\n",
    "    if var in globals():\n",
    "        del globals()[var]\n",
    "        \n",
    "test_frac=0.2 #fraction of test set\n",
    "layers = 1 # 1 or 2 hidden layers for NN\n",
    "MissingVal = 'MostFrequent' # choose between replacing missing values with 'MostFrequent' or 'OwnCategory'\n",
    "Scaling = 'normalize' # for scaling you can choose between 'normalize' or 'minMax' or 'None'\n",
    "min_samples_split = 5\n",
    "\n",
    "\n",
    "ESTIMATORS = [1,10,100,200,300] #number of estimators\n",
    "Accuracy = []\n",
    "Recall = []\n",
    "AccuracyBaseline = []\n",
    "RecallBaseline = []\n",
    "\n",
    "for N in ESTIMATORS:\n",
    "    recall, accuracy, baseline_recall, baseline_accuracy = HoldOUTrf(test_frac, N, min_samples_split, MissingVal, Scaling)\n",
    "    Accuracy.append(accuracy)\n",
    "    Recall.append(recall)\n",
    "    AccuracyBaseline.append(baseline_accuracy)\n",
    "    RecallBaseline.append(baseline_recall)\n",
    "    \n",
    "\n",
    "print('First one hidden layer')\n",
    "print('Accuracy:')\n",
    "print(Accuracy)\n",
    "print('Recall:')\n",
    "print(Recall)\n",
    "print('AccuracyBaseline')\n",
    "print(AccuracyBaseline)\n",
    "print('RecallBaseline')\n",
    "print(RecallBaseline)"
   ]
  },
  {
   "attachments": {},
   "cell_type": "markdown",
   "id": "4689af58",
   "metadata": {
    "papermill": {
     "duration": 0.030886,
     "end_time": "2023-04-29T13:04:16.713262",
     "exception": false,
     "start_time": "2023-04-29T13:04:16.682376",
     "status": "completed"
    },
    "tags": []
   },
   "source": [
    "**Optimize min_sample_splits based on hold out**"
   ]
  },
  {
   "cell_type": "code",
   "execution_count": null,
   "id": "cbe6b741",
   "metadata": {
    "execution": {
     "iopub.execute_input": "2023-04-29T13:04:16.778872Z",
     "iopub.status.busy": "2023-04-29T13:04:16.778438Z",
     "iopub.status.idle": "2023-04-29T13:04:23.881488Z",
     "shell.execute_reply": "2023-04-29T13:04:23.879860Z"
    },
    "papermill": {
     "duration": 7.139009,
     "end_time": "2023-04-29T13:04:23.884110",
     "exception": false,
     "start_time": "2023-04-29T13:04:16.745101",
     "status": "completed"
    },
    "tags": []
   },
   "outputs": [],
   "source": [
    "# first I optimize N1 with holdout assuming testset of 0.2 fixed\n",
    "for var in ['k', 'MissingVal', 'Scaling', 'layers', 'N1', 'Accuracy', 'AccuracyStd', 'Recall', 'RecallStd', 'AccuracyBaseline', 'RecallBaseline']:\n",
    "    if var in globals():\n",
    "        del globals()[var]\n",
    "        \n",
    "test_frac=0.2 #fraction of test set\n",
    "layers = 1 # 1 or 2 hidden layers for NN\n",
    "MissingVal = 'MostFrequent' # choose between replacing missing values with 'MostFrequent' or 'OwnCategory'\n",
    "Scaling = 'normalize' # for scaling you can choose between 'normalize' or 'minMax' or 'None'\n",
    "\n",
    "min_samples_split = [2,5,10,20,100,200] #number of estimators #number of estimators\n",
    "Accuracy = []\n",
    "Recall = []\n",
    "AccuracyBaseline = []\n",
    "RecallBaseline = []\n",
    "\n",
    "for N in min_samples_split:\n",
    "    recall, accuracy, baseline_recall, baseline_accuracy = HoldOUTrf(test_frac, 100, N, MissingVal, Scaling)\n",
    "    Accuracy.append(accuracy)\n",
    "    Recall.append(recall)\n",
    "    AccuracyBaseline.append(baseline_accuracy)\n",
    "    RecallBaseline.append(baseline_recall)\n",
    "    \n",
    "\n",
    "print('First one hidden layer')\n",
    "print('Accuracy:')\n",
    "print(Accuracy)\n",
    "print('Recall:')\n",
    "print(Recall)\n",
    "print('AccuracyBaseline')\n",
    "print(AccuracyBaseline)\n",
    "print('RecallBaseline')\n",
    "print(RecallBaseline)"
   ]
  },
  {
   "attachments": {},
   "cell_type": "markdown",
   "id": "0b19b2a9",
   "metadata": {
    "papermill": {
     "duration": 0.030823,
     "end_time": "2023-04-29T13:04:23.946238",
     "exception": false,
     "start_time": "2023-04-29T13:04:23.915415",
     "status": "completed"
    },
    "tags": []
   },
   "source": [
    "**Final generalization error random forests**"
   ]
  },
  {
   "cell_type": "code",
   "execution_count": null,
   "id": "f56b44f9",
   "metadata": {
    "execution": {
     "iopub.execute_input": "2023-04-29T13:04:24.010502Z",
     "iopub.status.busy": "2023-04-29T13:04:24.010113Z",
     "iopub.status.idle": "2023-04-29T13:04:25.985148Z",
     "shell.execute_reply": "2023-04-29T13:04:25.983874Z"
    },
    "papermill": {
     "duration": 2.010224,
     "end_time": "2023-04-29T13:04:25.987507",
     "exception": false,
     "start_time": "2023-04-29T13:04:23.977283",
     "status": "completed"
    },
    "tags": []
   },
   "outputs": [],
   "source": [
    "Scaling = 'normalize'\n",
    "MissingVal = 'MostFrequent'\n",
    "\n",
    "estimators = 100\n",
    "min_samples_split = 2\n",
    "\n",
    "# We will use 1 Hidden layer with 100 Neurons and normalize scaling\n",
    "df_input_train = df.drop('Y', axis=1) # input values for training, everything but test set\n",
    "df_output_train = df['Y'] # output\n",
    "df_input_test = df_TEST.drop('Y', axis=1) # input values for training, everything but test set\n",
    "df_output_test = df_TEST['Y'] # output\n",
    "\n",
    "df_input_train, df_input_test = f(MissingVal, df_input_train, df_input_test)  #Choose between 'MostFrequent' and 'OwnCategory' for dealing with missing values\n",
    "df_input_train, df_input_test = scale(df_input_train, df_input_test,Scaling)\n",
    "\n",
    "#define model\n",
    "pipeline_rfc = Pipeline([('classifier', RandomForestClassifier(criterion='gini', n_estimators=estimators, random_state=42,min_samples_split=min_samples_split))])\n",
    "\n",
    "start_time = time.time()\n",
    "\n",
    "pipeline_rfc.fit(df_input_train, df_output_train)\n",
    "\n",
    "end_time = time.time()\n",
    "\n",
    "print(\"Time taken to fit the RandomForestClassifier: {:.2f} seconds\".format(end_time - start_time))\n",
    "        \n",
    "start_time = time.time()\n",
    "# evaluate the model on the test set for this fold\n",
    "Y_pred = pipeline_rfc.predict(df_input_test)\n",
    "# round the predicted values to 0 or 1\n",
    "end_time = time.time()\n",
    "\n",
    "print(\"Time for RandomForestClassifier to predict the training set: {:.2f} seconds\".format(end_time - start_time))    \n",
    "\n",
    "recall = recall_score(df_output_test, Y_pred)\n",
    "accuracy = accuracy_score(df_output_test, Y_pred)\n",
    "\n",
    "print(recall)\n",
    "print(accuracy)"
   ]
  },
  {
   "attachments": {},
   "cell_type": "markdown",
   "id": "449bca4c",
   "metadata": {
    "papermill": {
     "duration": 0.030932,
     "end_time": "2023-04-29T13:04:26.050002",
     "exception": false,
     "start_time": "2023-04-29T13:04:26.019070",
     "status": "completed"
    },
    "tags": []
   },
   "source": [
    "**k NN - k-Fold cross validtion**"
   ]
  },
  {
   "cell_type": "code",
   "execution_count": null,
   "id": "6ed56757",
   "metadata": {
    "execution": {
     "iopub.execute_input": "2023-04-29T13:04:26.115705Z",
     "iopub.status.busy": "2023-04-29T13:04:26.115011Z",
     "iopub.status.idle": "2023-04-29T13:04:26.128426Z",
     "shell.execute_reply": "2023-04-29T13:04:26.127248Z"
    },
    "papermill": {
     "duration": 0.049418,
     "end_time": "2023-04-29T13:04:26.131047",
     "exception": false,
     "start_time": "2023-04-29T13:04:26.081629",
     "status": "completed"
    },
    "tags": []
   },
   "outputs": [],
   "source": [
    "# the KFOLD function does a kfold cross validation and returns the averaged accuracy and recall + standard deviation over\n",
    "# all folds, as well as the trivial baseline (put in majority class) as comparison\n",
    "seed = 1\n",
    "def KFOLDKnn(k, kN, MissingVal, Scaling): \n",
    "    df_input = df.drop('Y', axis=1) # input values \n",
    "    df_output = df['Y'] # output\n",
    "\n",
    "    # define the k-fold cross validation object\n",
    "    kfold = KFold(n_splits=k, shuffle=True, random_state=seed)\n",
    "\n",
    "    # perform the k-fold cross validation and get the results\n",
    "    scores_mse = []\n",
    "    scores_mae = []\n",
    "    scores_recall = []\n",
    "    scores_accuracy = []\n",
    "    baseline_recall = []\n",
    "    baseline_accuracy = []\n",
    "\n",
    "    for train_index, test_index in kfold.split(df_input):\n",
    "        # split the data into training and test sets for this fold\n",
    "        df_input_train_fold, df_input_test_fold = df_input.iloc[train_index].copy(), df_input.iloc[test_index].copy()\n",
    "        df_output_train_fold, df_output_test_fold = df_output.iloc[train_index], df_output.iloc[test_index]\n",
    "\n",
    "        # compute baseline recall and accuracy\n",
    "        majority_class = df_output_train_fold.mode()[0]\n",
    "        baseline_recall_fold = recall_score(df_output_test_fold, [majority_class] * len(df_output_test_fold))\n",
    "        baseline_accuracy_fold = accuracy_score(df_output_test_fold, [majority_class] * len(df_output_test_fold))\n",
    "        baseline_recall.append(baseline_recall_fold)\n",
    "        baseline_accuracy.append(baseline_accuracy_fold)\n",
    "\n",
    "        # data preparation\n",
    "        df_input_train_fold, df_input_test_fold = f(MissingVal, df_input_train_fold, df_input_test_fold)  #Choose between 'MostFrequent' and 'OwnCategory' for dealing with missing values\n",
    "        df_input_train_fold, df_input_test_fold = scale(df_input_train_fold, df_input_test_fold,Scaling) # choose 'minMax' or 'normalize' scalinig\n",
    "\n",
    "        #define model\n",
    "        knn = KNeighborsClassifier(n_neighbors=kN, weights='distance', metric='manhattan') #metric='euclidean'    metric='manhattan'\n",
    "        knn.fit(df_input_train_fold, df_output_train_fold)\n",
    "        \n",
    "        # evaluate the model on the test set for this fold\n",
    "        Y_pred_fold = knn.predict(df_input_test_fold)\n",
    "        # round the predicted values to 0 or 1\n",
    "\n",
    "        recall = recall_score(df_output_test_fold, Y_pred_fold)\n",
    "        accuracy = accuracy_score(df_output_test_fold, Y_pred_fold)\n",
    "        scores_recall.append(recall)\n",
    "        scores_accuracy.append(accuracy)\n",
    "    return (np.mean(scores_recall), np.std(scores_recall)), (np.mean(scores_accuracy), np.std(scores_accuracy)), (np.mean(baseline_recall), np.std(baseline_recall)), (np.mean(baseline_accuracy), np.std(baseline_accuracy))\n"
   ]
  },
  {
   "attachments": {},
   "cell_type": "markdown",
   "id": "45f07182",
   "metadata": {
    "papermill": {
     "duration": 0.030977,
     "end_time": "2023-04-29T13:04:26.193870",
     "exception": false,
     "start_time": "2023-04-29T13:04:26.162893",
     "status": "completed"
    },
    "tags": []
   },
   "source": [
    "**k NN - k-Fold hold out**"
   ]
  },
  {
   "cell_type": "code",
   "execution_count": null,
   "id": "47e65c64",
   "metadata": {
    "execution": {
     "iopub.execute_input": "2023-04-29T13:04:26.261067Z",
     "iopub.status.busy": "2023-04-29T13:04:26.260614Z",
     "iopub.status.idle": "2023-04-29T13:04:26.270524Z",
     "shell.execute_reply": "2023-04-29T13:04:26.269583Z"
    },
    "papermill": {
     "duration": 0.046857,
     "end_time": "2023-04-29T13:04:26.273033",
     "exception": false,
     "start_time": "2023-04-29T13:04:26.226176",
     "status": "completed"
    },
    "tags": []
   },
   "outputs": [],
   "source": [
    "seed = 1\n",
    "def HoldOUTKnn(test_frac, kN, min_samples_split, MissingVal, Scaling):\n",
    "    df_input = df.drop('Y', axis=1) # input values \n",
    "    df_output = df['Y'] # output\n",
    "\n",
    "    # split the data into training and test sets\n",
    "    df_input_train, df_input_test, df_output_train, df_output_test = train_test_split(df_input, df_output, test_size=test_frac, random_state=seed, shuffle=True)\n",
    "\n",
    "    # compute baseline recall and accuracy\n",
    "    majority_class = df_output_train.mode()[0]\n",
    "    baseline_recall = recall_score(df_output_test, [majority_class] * len(df_output_test))\n",
    "    baseline_accuracy = accuracy_score(df_output_test, [majority_class] * len(df_output_test))\n",
    "    \n",
    "    # data preparation\n",
    "    df_input_train, df_input_test = f(MissingVal, df_input_train, df_input_test)  #Choose between 'MostFrequent' and 'OwnCategory' for dealing with missing values\n",
    "    df_input_train, df_input_test = scale(df_input_train, df_input_test, Scaling) # choose 'minMax' or 'normalize' scalinig\n",
    "\n",
    "    #define model\n",
    "    knn = KNeighborsClassifier(n_neighbors=kN, weights='distance', metric='manhattan')  #, metric='manhattan'\n",
    "    knn.fit(df_input_train, df_output_train)\n",
    "        \n",
    "    # evaluate the model on the test set for this fold\n",
    "    Y_pred = knn.predict(df_input_test)\n",
    "    # round the predicted values to 0 or 1\n",
    "\n",
    "    recall = recall_score(df_output_test, Y_pred)\n",
    "    accuracy = accuracy_score(df_output_test, Y_pred)\n",
    "    \n",
    "    return recall, accuracy, baseline_recall, baseline_accuracy"
   ]
  },
  {
   "attachments": {},
   "cell_type": "markdown",
   "id": "0ca2b56b",
   "metadata": {
    "papermill": {
     "duration": 0.031905,
     "end_time": "2023-04-29T13:04:26.336435",
     "exception": false,
     "start_time": "2023-04-29T13:04:26.304530",
     "status": "completed"
    },
    "tags": []
   },
   "source": [
    "**Optimize for kN in kNN with cross validation**"
   ]
  },
  {
   "cell_type": "code",
   "execution_count": null,
   "id": "5884a513",
   "metadata": {
    "execution": {
     "iopub.execute_input": "2023-04-29T13:04:26.401483Z",
     "iopub.status.busy": "2023-04-29T13:04:26.401054Z",
     "iopub.status.idle": "2023-04-29T13:10:46.696457Z",
     "shell.execute_reply": "2023-04-29T13:10:46.695148Z"
    },
    "papermill": {
     "duration": 380.362205,
     "end_time": "2023-04-29T13:10:46.730213",
     "exception": false,
     "start_time": "2023-04-29T13:04:26.368008",
     "status": "completed"
    },
    "tags": []
   },
   "outputs": [],
   "source": [
    "# the results here have been optained from running the above cells for different parameters\n",
    "# first parameter k = 4 is kept fixed and I optimize accuracy and recall for N1\n",
    "for var in ['k', 'MissingVal', 'Scaling', 'layers', 'N1', 'Accuracy', 'AccuracyStd', 'Recall', 'RecallStd', 'AccuracyBaseline', 'RecallBaseline']:\n",
    "    if var in globals():\n",
    "        del globals()[var]\n",
    "\n",
    "k=5\n",
    "MissingVal = 'MostFrequent' # choose between replacing missing values with 'MostFrequent' or 'OwnCategory'\n",
    "Scaling = 'normalize' # for scaling you can choose between 'normalize' or 'minMax' or 'None'\n",
    "\n",
    "KNN = [1,2,5,10,50,100,1000] #number of estimators\n",
    "Accuracy = []\n",
    "AccuracyStd = []\n",
    "Recall = []\n",
    "RecallStd = []\n",
    "AccuracyBaseline = []\n",
    "RecallBaseline = []\n",
    "\n",
    "for kN in KNN:\n",
    "    RecallA, AccuracyA, RecallBaselineA, AccuracyBaselineA = KFOLDKnn(k, kN, MissingVal, Scaling)\n",
    "    Accuracy.append(AccuracyA[0])\n",
    "    AccuracyStd.append(AccuracyA[1])\n",
    "    Recall.append(RecallA[0])\n",
    "    RecallStd.append(RecallA[1])\n",
    "    AccuracyBaseline.append(AccuracyBaselineA[0])\n",
    "    RecallBaseline.append(RecallBaselineA[0])\n",
    "    \n",
    "print('Accuracy:')\n",
    "print(Accuracy)\n",
    "print('Accuracy Std:')\n",
    "print(AccuracyStd)\n",
    "print('Recall:')\n",
    "print(Recall)\n",
    "print('RecallStd')\n",
    "print(RecallStd)\n",
    "print('AccuracyBaseline')\n",
    "print(AccuracyBaseline)\n",
    "print('RecallBaseline')\n",
    "print(RecallBaseline)"
   ]
  },
  {
   "attachments": {},
   "cell_type": "markdown",
   "id": "c96f0e2a",
   "metadata": {
    "papermill": {
     "duration": 0.031051,
     "end_time": "2023-04-29T13:10:46.792883",
     "exception": false,
     "start_time": "2023-04-29T13:10:46.761832",
     "status": "completed"
    },
    "tags": []
   },
   "source": [
    "**Optimize for kN in kNN with hold out**"
   ]
  },
  {
   "cell_type": "code",
   "execution_count": null,
   "id": "c49a853d",
   "metadata": {
    "execution": {
     "iopub.execute_input": "2023-04-29T13:10:46.857846Z",
     "iopub.status.busy": "2023-04-29T13:10:46.857145Z",
     "iopub.status.idle": "2023-04-29T13:12:00.391671Z",
     "shell.execute_reply": "2023-04-29T13:12:00.390244Z"
    },
    "papermill": {
     "duration": 73.602687,
     "end_time": "2023-04-29T13:12:00.426977",
     "exception": false,
     "start_time": "2023-04-29T13:10:46.824290",
     "status": "completed"
    },
    "tags": []
   },
   "outputs": [],
   "source": [
    "# first I optimize N1 with holdout assuming testset of 0.2 fixed\n",
    "for var in ['k', 'MissingVal', 'Scaling', 'layers', 'N1', 'Accuracy', 'AccuracyStd', 'Recall', 'RecallStd', 'AccuracyBaseline', 'RecallBaseline']:\n",
    "    if var in globals():\n",
    "        del globals()[var]\n",
    "        \n",
    "test_frac=0.2 #fraction of test set\n",
    "layers = 1 # 1 or 2 hidden layers for NN\n",
    "MissingVal = 'MostFrequent' # choose between replacing missing values with 'MostFrequent' or 'OwnCategory'\n",
    "Scaling = 'normalize' # for scaling you can choose between 'normalize' or 'minMax' or 'None'\n",
    "\n",
    "KNN = [1,2,5,10,50,100,1000] #number of estimators\n",
    "Accuracy = []\n",
    "Recall = []\n",
    "AccuracyBaseline = []\n",
    "RecallBaseline = []\n",
    "\n",
    "for kN in KNN:\n",
    "    recall, accuracy, baseline_recall, baseline_accuracy = HoldOUTKnn(test_frac, kN, 5, MissingVal, Scaling)\n",
    "    Accuracy.append(accuracy)\n",
    "    Recall.append(recall)\n",
    "    AccuracyBaseline.append(baseline_accuracy)\n",
    "    RecallBaseline.append(baseline_recall)\n",
    "    \n",
    "print('Accuracy:')\n",
    "print(Accuracy)\n",
    "print('Recall:')\n",
    "print(Recall)\n",
    "print('AccuracyBaseline')\n",
    "print(AccuracyBaseline)\n",
    "print('RecallBaseline')\n",
    "print(RecallBaseline)"
   ]
  },
  {
   "attachments": {},
   "cell_type": "markdown",
   "id": "3a25921b",
   "metadata": {
    "papermill": {
     "duration": 0.045008,
     "end_time": "2023-04-29T13:12:00.507137",
     "exception": false,
     "start_time": "2023-04-29T13:12:00.462129",
     "status": "completed"
    },
    "tags": []
   },
   "source": [
    "**Compare scaling and no scaling**"
   ]
  },
  {
   "cell_type": "code",
   "execution_count": null,
   "id": "f14ac829",
   "metadata": {
    "execution": {
     "iopub.execute_input": "2023-04-29T13:12:00.587028Z",
     "iopub.status.busy": "2023-04-29T13:12:00.586547Z",
     "iopub.status.idle": "2023-04-29T13:18:04.319683Z",
     "shell.execute_reply": "2023-04-29T13:18:04.318309Z"
    },
    "papermill": {
     "duration": 363.806663,
     "end_time": "2023-04-29T13:18:04.354862",
     "exception": false,
     "start_time": "2023-04-29T13:12:00.548199",
     "status": "completed"
    },
    "tags": []
   },
   "outputs": [],
   "source": [
    "# the results here have been optained from running the above cells for different parameters\n",
    "# first parameter k = 4 is kept fixed and I optimize accuracy and recall for N1\n",
    "for var in ['k', 'MissingVal', 'Scaling', 'layers', 'N1', 'Accuracy', 'AccuracyStd', 'Recall', 'RecallStd', 'AccuracyBaseline', 'RecallBaseline']:\n",
    "    if var in globals():\n",
    "        del globals()[var]\n",
    "\n",
    "k=5\n",
    "MissingVal = 'MostFrequent' # choose between replacing missing values with 'MostFrequent' or 'OwnCategory'\n",
    "Scaling = 'normalize' # for scaling you can choose between 'normalize' or 'minMax' or 'None'\n",
    "\n",
    "KNN = [1,2,5,10,50,100,1000] #number of estimators\n",
    "Accuracy = []\n",
    "AccuracyStd = []\n",
    "Recall = []\n",
    "RecallStd = []\n",
    "AccuracyBaseline = []\n",
    "RecallBaseline = []\n",
    "\n",
    "for kN in KNN:\n",
    "    RecallA, AccuracyA, RecallBaselineA, AccuracyBaselineA = KFOLDKnn(k, kN, MissingVal, Scaling)\n",
    "    Accuracy.append(AccuracyA[0])\n",
    "    AccuracyStd.append(AccuracyA[1])\n",
    "    Recall.append(RecallA[0])\n",
    "    RecallStd.append(RecallA[1])\n",
    "    AccuracyBaseline.append(AccuracyBaselineA[0])\n",
    "    RecallBaseline.append(RecallBaselineA[0])\n",
    "    \n",
    "print('Accuracy:')\n",
    "print(Accuracy)\n",
    "print('Accuracy Std:')\n",
    "print(AccuracyStd)\n",
    "print('Recall:')\n",
    "print(Recall)\n",
    "print('RecallStd')\n",
    "print(RecallStd)\n",
    "print('AccuracyBaseline')\n",
    "print(AccuracyBaseline)\n",
    "print('RecallBaseline')\n",
    "print(RecallBaseline)"
   ]
  },
  {
   "cell_type": "code",
   "execution_count": null,
   "id": "4de6209d",
   "metadata": {
    "execution": {
     "iopub.execute_input": "2023-04-29T13:18:04.420643Z",
     "iopub.status.busy": "2023-04-29T13:18:04.420252Z",
     "iopub.status.idle": "2023-04-29T13:22:12.353212Z",
     "shell.execute_reply": "2023-04-29T13:22:12.352008Z"
    },
    "papermill": {
     "duration": 247.999975,
     "end_time": "2023-04-29T13:22:12.386883",
     "exception": false,
     "start_time": "2023-04-29T13:18:04.386908",
     "status": "completed"
    },
    "tags": []
   },
   "outputs": [],
   "source": [
    "# the results here have been optained from running the above cells for different parameters\n",
    "# first parameter k = 4 is kept fixed and I optimize accuracy and recall for N1\n",
    "for var in ['k', 'MissingVal', 'Scaling', 'layers', 'N1', 'Accuracy', 'AccuracyStd', 'Recall', 'RecallStd', 'AccuracyBaseline', 'RecallBaseline']:\n",
    "    if var in globals():\n",
    "        del globals()[var]\n",
    "\n",
    "k=5\n",
    "MissingVal = 'MostFrequent' # choose between replacing missing values with 'MostFrequent' or 'OwnCategory'\n",
    "Scaling = 'None' # for scaling you can choose between 'normalize' or 'minMax' or 'None'\n",
    "\n",
    "KNN = [1,2,5,10,50,100,1000] #number of estimators\n",
    "Accuracy = []\n",
    "AccuracyStd = []\n",
    "Recall = []\n",
    "RecallStd = []\n",
    "AccuracyBaseline = []\n",
    "RecallBaseline = []\n",
    "\n",
    "for kN in KNN:\n",
    "    RecallA, AccuracyA, RecallBaselineA, AccuracyBaselineA = KFOLDKnn(k, kN, MissingVal, Scaling)\n",
    "    Accuracy.append(AccuracyA[0])\n",
    "    AccuracyStd.append(AccuracyA[1])\n",
    "    Recall.append(RecallA[0])\n",
    "    RecallStd.append(RecallA[1])\n",
    "    AccuracyBaseline.append(AccuracyBaselineA[0])\n",
    "    RecallBaseline.append(RecallBaselineA[0])\n",
    "    \n",
    "print('Accuracy:')\n",
    "print(Accuracy)\n",
    "print('Accuracy Std:')\n",
    "print(AccuracyStd)\n",
    "print('Recall:')\n",
    "print(Recall)\n",
    "print('RecallStd')\n",
    "print(RecallStd)\n",
    "print('AccuracyBaseline')\n",
    "print(AccuracyBaseline)\n",
    "print('RecallBaseline')\n",
    "print(RecallBaseline)"
   ]
  },
  {
   "attachments": {},
   "cell_type": "markdown",
   "id": "128a5ce0",
   "metadata": {
    "papermill": {
     "duration": 0.031723,
     "end_time": "2023-04-29T13:22:12.450536",
     "exception": false,
     "start_time": "2023-04-29T13:22:12.418813",
     "status": "completed"
    },
    "tags": []
   },
   "source": [
    "**Final generalization error kNN**"
   ]
  },
  {
   "cell_type": "code",
   "execution_count": null,
   "id": "5d961e17",
   "metadata": {
    "execution": {
     "iopub.execute_input": "2023-04-29T13:22:12.517105Z",
     "iopub.status.busy": "2023-04-29T13:22:12.515808Z",
     "iopub.status.idle": "2023-04-29T13:22:24.339192Z",
     "shell.execute_reply": "2023-04-29T13:22:24.337933Z"
    },
    "papermill": {
     "duration": 11.859063,
     "end_time": "2023-04-29T13:22:24.341803",
     "exception": false,
     "start_time": "2023-04-29T13:22:12.482740",
     "status": "completed"
    },
    "tags": []
   },
   "outputs": [],
   "source": [
    "Scaling = 'normalize'\n",
    "MissingVal = 'MostFrequent'\n",
    "# kN = 100 is about optimal\n",
    "\n",
    "# We will use 1 Hidden layer with 100 Neurons and normalize scaling\n",
    "df_input_train = df.drop('Y', axis=1) # input values for training, everything but test set\n",
    "df_output_train = df['Y'] # output\n",
    "df_input_test = df_TEST.drop('Y', axis=1) # input values for training, everything but test set\n",
    "df_output_test = df_TEST['Y'] # output\n",
    "\n",
    "df_input_train, df_input_test = f(MissingVal, df_input_train, df_input_test)  #Choose between 'MostFrequent' and 'OwnCategory' for dealing with missing values\n",
    "df_input_train, df_input_test = scale(df_input_train, df_input_test,Scaling)\n",
    "\n",
    "#define model\n",
    "knn = KNeighborsClassifier(n_neighbors=100, weights='distance', metric='manhattan') #metric='euclidean'    metric='manhattan'\n",
    "\n",
    "\n",
    "start_time = time.time()\n",
    "\n",
    "knn.fit(df_input_train, df_output_train)\n",
    "\n",
    "end_time = time.time()\n",
    "\n",
    "print(\"Time taken to fit the RandomForestClassifier: {:.2f} seconds\".format(end_time - start_time))\n",
    "\n",
    "# evaluate the model on the test set\n",
    "\n",
    "start_time = time.time()\n",
    "# evaluate the model on the test set for this fold\n",
    "Y_pred = knn.predict(df_input_test)\n",
    "# round the predicted values to 0 or 1\n",
    "end_time = time.time()\n",
    "\n",
    "print(\"Time for RandomForestClassifier to predict the training set: {:.2f} seconds\".format(end_time - start_time))    \n",
    "\n",
    "recall = recall_score(df_output_test, Y_pred)\n",
    "accuracy = accuracy_score(df_output_test, Y_pred)\n",
    "\n",
    "print(recall)\n",
    "print(accuracy)"
   ]
  },
  {
   "attachments": {},
   "cell_type": "markdown",
   "id": "c86553a2",
   "metadata": {
    "papermill": {
     "duration": 0.032879,
     "end_time": "2023-04-29T13:22:24.407516",
     "exception": false,
     "start_time": "2023-04-29T13:22:24.374637",
     "status": "completed"
    },
    "tags": []
   },
   "source": [
    "**Visualization of results**"
   ]
  },
  {
   "cell_type": "code",
   "execution_count": null,
   "id": "edb2ddb2",
   "metadata": {
    "execution": {
     "iopub.execute_input": "2023-04-29T13:22:24.475400Z",
     "iopub.status.busy": "2023-04-29T13:22:24.474996Z",
     "iopub.status.idle": "2023-04-29T13:22:25.008478Z",
     "shell.execute_reply": "2023-04-29T13:22:25.007123Z"
    },
    "papermill": {
     "duration": 0.570727,
     "end_time": "2023-04-29T13:22:25.011326",
     "exception": false,
     "start_time": "2023-04-29T13:22:24.440599",
     "status": "completed"
    },
    "tags": []
   },
   "outputs": [],
   "source": [
    "# Define the x-axis options\n",
    "x = ['k-NN', 'RF', 'NN']\n",
    "x2 = ['k-NN1','k-NN2', 'k-NN3','RF1','RF2', 'RF3', 'NN1','NN2','NN3']\n",
    "\n",
    "# Define the y-axis values and their corresponding error bars\n",
    "accuracies = [0.721, 0.750, 0.732]\n",
    "accuracies2 = [0.689, 0.723, 0.712, 0.783, 0.783, 0.783, 0.742, 0.746, 0.753]\n",
    "accuracy_errors = [0.0065, 0.007, 0.009]\n",
    "\n",
    "recalls = [0.850, 0.836, 0.753]\n",
    "recalls2 = [0.825, 0.879, 0.875, 0.844, 0.844, 0.843, 0.807, 0.812, 0.829]\n",
    "recall_errors = [0.01, 0.01, 0.02]\n",
    "\n",
    "# Create the figure and axis objects\n",
    "fig, axs = plt.subplots(ncols=2, figsize=(10, 5))\n",
    "\n",
    "# Plot the first subplot with error bars\n",
    "axs[0].errorbar(x, accuracies, yerr=accuracy_errors, fmt='o', color='blue', label='Accuracy', capsize=5)\n",
    "axs[0].errorbar(x, recalls, yerr=recall_errors, fmt='o', color='black', label='Recall', capsize=5)\n",
    "axs[0].set_title('optimized CV, k = 5')\n",
    "axs[0].set_xlabel('Algorithm')\n",
    "axs[0].set_ylabel('Accuracy / Recall')\n",
    "axs[0].legend()\n",
    "\n",
    "# Plot the first subplot with error bars\n",
    "axs[1].scatter(x2, accuracies2, color='blue', label='Accuracy')\n",
    "axs[1].scatter(x2, recalls2, color='black', label='Recall')\n",
    "axs[1].set_title('Final error on test set')\n",
    "axs[1].set_xlabel('Algorithm')\n",
    "axs[1].set_ylabel('Accuracy / Recall')\n",
    "axs[1].legend()\n",
    "\n",
    "# Show the plot\n",
    "plt.tight_layout()\n",
    "plt.savefig('../results/in-vehicle_coupon/final_comparison.png')\n",
    "plt.show()\n"
   ]
  }
 ],
 "metadata": {
  "kernelspec": {
   "display_name": "Python 3",
   "language": "python",
   "name": "python3"
  },
  "language_info": {
   "codemirror_mode": {
    "name": "ipython",
    "version": 3
   },
   "file_extension": ".py",
   "mimetype": "text/x-python",
   "name": "python",
   "nbconvert_exporter": "python",
   "pygments_lexer": "ipython3",
   "version": "3.9.13"
  },
  "papermill": {
   "default_parameters": {},
   "duration": 4465.145438,
   "end_time": "2023-04-29T13:22:27.968819",
   "environment_variables": {},
   "exception": null,
   "input_path": "__notebook__.ipynb",
   "output_path": "__notebook__.ipynb",
   "parameters": {},
   "start_time": "2023-04-29T12:08:02.823381",
   "version": "2.4.0"
  }
 },
 "nbformat": 4,
 "nbformat_minor": 5
}
